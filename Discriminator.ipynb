{
  "cells": [
    {
      "cell_type": "markdown",
      "metadata": {
        "id": "view-in-github",
        "colab_type": "text"
      },
      "source": [
        "<a href=\"https://colab.research.google.com/github/Aydin-ab/CV_DMTet/blob/main/Discriminator.ipynb\" target=\"_parent\"><img src=\"https://colab.research.google.com/assets/colab-badge.svg\" alt=\"Open In Colab\"/></a>"
      ]
    },
    {
      "cell_type": "code",
      "execution_count": null,
      "metadata": {
        "id": "Tn39pdm9_hhq",
        "outputId": "e4b2fac8-80d0-411e-a57f-c58687dd86de"
      },
      "outputs": [
        {
          "ename": "ModuleNotFoundError",
          "evalue": "No module named 'igl'",
          "output_type": "error",
          "traceback": [
            "\u001b[0;31m---------------------------------------------------------------------------\u001b[0m",
            "\u001b[0;31mModuleNotFoundError\u001b[0m                       Traceback (most recent call last)",
            "\u001b[0;32m<ipython-input-2-31e287751c23>\u001b[0m in \u001b[0;36m<module>\u001b[0;34m\u001b[0m\n\u001b[1;32m      2\u001b[0m \u001b[0;32mfrom\u001b[0m \u001b[0mmath\u001b[0m \u001b[0;32mimport\u001b[0m \u001b[0mpi\u001b[0m\u001b[0;34m\u001b[0m\u001b[0;34m\u001b[0m\u001b[0m\n\u001b[1;32m      3\u001b[0m \u001b[0;32mimport\u001b[0m \u001b[0mnumpy\u001b[0m \u001b[0;32mas\u001b[0m \u001b[0mnp\u001b[0m\u001b[0;34m\u001b[0m\u001b[0;34m\u001b[0m\u001b[0m\n\u001b[0;32m----> 4\u001b[0;31m \u001b[0;32mimport\u001b[0m \u001b[0migl\u001b[0m\u001b[0;34m\u001b[0m\u001b[0;34m\u001b[0m\u001b[0m\n\u001b[0m\u001b[1;32m      5\u001b[0m \u001b[0;32mimport\u001b[0m \u001b[0mtorch\u001b[0m\u001b[0;34m\u001b[0m\u001b[0;34m\u001b[0m\u001b[0m\n",
            "\u001b[0;31mModuleNotFoundError\u001b[0m: No module named 'igl'"
          ]
        }
      ],
      "source": [
        "# imports\n",
        "from math import pi\n",
        "import numpy as np\n",
        "import igl\n",
        "import torch"
      ]
    },
    {
      "cell_type": "code",
      "execution_count": null,
      "metadata": {
        "id": "RDIhkmtr_hhs"
      },
      "outputs": [],
      "source": [
        "# refinement, subdivision, refinement --> Discriminator (triangular mesh)"
      ]
    },
    {
      "cell_type": "code",
      "execution_count": null,
      "metadata": {
        "id": "3YK9RtoK_hht"
      },
      "outputs": [],
      "source": [
        "# hyperparameters\n",
        "N = 18 \n",
        "r = 128\n",
        "Kg_min = pi / 16\n",
        "n_sample_patches = 10\n",
        "iterations = 20000 "
      ]
    },
    {
      "cell_type": "code",
      "execution_count": null,
      "metadata": {
        "id": "gEjYUO5q_hht"
      },
      "outputs": [],
      "source": [
        "# input\n",
        "nvertices = 0 \n",
        "n = nvertices\n",
        "# vpred, fpred = igl.read_triangle_mesh(os.path.join(root_folder, \"data\", \"bunny.off\"))\n",
        "# vgt, vgt = igl.read_triangle_mesh(os.path.join(root_folder, \"data\", \"bunny.off\"))\n",
        "F = 100 #leave for now\n",
        "vpred = np.ones((n, 3))\n",
        "fpred = np.ones((F, 3))"
      ]
    },
    {
      "cell_type": "code",
      "execution_count": null,
      "metadata": {
        "id": "2MBqHxRT_hht"
      },
      "outputs": [],
      "source": [
        "# shape of SDFs\n",
        "Sreal = np.ones((N,N,N)) #mesh \n",
        "Sgt = np.ones((N,N,N))"
      ]
    },
    {
      "cell_type": "code",
      "execution_count": null,
      "metadata": {
        "id": "FbFVNkiZ_hht"
      },
      "outputs": [],
      "source": [
        "Kg = igl.gaussian_curvature(vgt, fgt)\n",
        "Vgt = vgt.apply(Kg >= Kg_min )"
      ]
    },
    {
      "cell_type": "code",
      "execution_count": null,
      "metadata": {
        "id": "MkH_KfgH_hhu"
      },
      "outputs": [],
      "source": [
        "Sreal = SDF(Vgt + (Vgt.shape[0] - N/2) / r, (vgt, fgt))"
      ]
    },
    {
      "cell_type": "code",
      "execution_count": null,
      "metadata": {
        "id": "dZ1O_O0f_hhu"
      },
      "outputs": [],
      "source": [
        "Sreal = SDF(Vgt + (Vgt.shape[0] - N/2) / r, (vgt, fgt))"
      ]
    },
    {
      "cell_type": "code",
      "execution_count": null,
      "metadata": {
        "id": "Gir29V6D_hhu"
      },
      "outputs": [],
      "source": []
    },
    {
      "cell_type": "code",
      "execution_count": null,
      "metadata": {
        "id": "gVR313aQ_hhu"
      },
      "outputs": [],
      "source": [
        "DISCRIMINATOR_CONFIG = {\n",
        "#     'input_dim' : 3, # Coordinates of the grid's vertices\n",
        "    'kernel_size' : [4, 3, 3, 3, 3]\n",
        "    'out_channel' : [32, 64, 128, 256, 512],\n",
        "    'stride' : [1, 2, 1, 1, 1]\n",
        "    'output_dim' : 832, # SDF of the vertex input. The other \"output\" f_v comes from the prior activation layer of dimension 64\n",
        "}"
      ]
    },
    {
      "cell_type": "code",
      "execution_count": null,
      "metadata": {
        "id": "eekYWiqM_hhv"
      },
      "outputs": [],
      "source": [
        "# https://github.com/czq142857/DECOR-GAN/blob/3d736bf0f5bd9206cc26ee5336c1d7b4172f6cf8/evalFID.py#L63\n",
        "class classifier(nn.Module):\n",
        "    def __init__(self, config):\n",
        "        super(classifier, self).__init__()\n",
        "        self.config = config\n",
        "        self.voxel_size = voxel_size\n",
        "\n",
        "        self.conv_1 = nn.Conv3d(in_channels=1, out_channels=32, kernel_size=4, stride=1, bias=True)\n",
        "        self.bn_1 = nn.InstanceNorm3d(32)\n",
        "\n",
        "        self.conv_2 = nn.Conv3d(in_channels=32, out_channels=64, kernel_size=3, stride=2, bias=True)\n",
        "        self.bn_2 = nn.InstanceNorm3d(64)\n",
        "\n",
        "        self.conv_3 = nn.Conv3d(in_channels=64, out_channels=128, kernel_size=3, stride=1, bias=True)\n",
        "        self.bn_3 = nn.InstanceNorm3d(128)\n",
        "\n",
        "        self.conv_4 = nn.Conv3d(in_channels=128, out_channels=256, kernel_size=3, stride=1, bias=True)\n",
        "        self.bn_4 = nn.InstanceNorm3d(256)\n",
        "\n",
        "        self.conv_5 = nn.Conv3d(in_channels=256, out_channels=512, kernel_size=3, stride=1, bias=True)\n",
        "\n",
        "#         if self.voxel_size==256:\n",
        "#             self.bn_5 = nn.InstanceNorm3d(self.z_dim)\n",
        "#             self.conv_5_2 = nn.Conv3d(self.z_dim, self.z_dim, 4, stride=2, padding=1, bias=True)\n",
        "\n",
        "        self.linear1 = nn.Linear(512, 1, bias=True)\n",
        "\n",
        "\n",
        "\n",
        "    def forward(self, inputs, is_training=False):\n",
        "        out = inputs\n",
        "\n",
        "        out = self.bn_1(self.conv_1(out))\n",
        "        out = F.leaky_relu(out, negative_slope=0.01, inplace=True)\n",
        "\n",
        "        out = self.bn_2(self.conv_2(out))\n",
        "        out = F.leaky_relu(out, negative_slope=0.01, inplace=True)\n",
        "\n",
        "        out = self.bn_3(self.conv_3(out))\n",
        "        out = F.leaky_relu(out, negative_slope=0.01, inplace=True)\n",
        "\n",
        "        out = self.bn_4(self.conv_4(out))\n",
        "        out = F.leaky_relu(out, negative_slope=0.01, inplace=True)\n",
        "\n",
        "        out = self.conv_5(out)\n",
        "\n",
        "#         if self.voxel_size==256:\n",
        "#             out = self.bn_5(out)\n",
        "#             out = F.leaky_relu(out, negative_slope=0.01, inplace=True)\n",
        "#             out = self.conv_5_2(out)\n",
        "\n",
        "        z = F.adaptive_avg_pool3d(out, output_size=(1, 1, 1))\n",
        "        z = z.view(-1,512)\n",
        "        out = F.leaky_relu(z, negative_slope=0.01, inplace=True)\n",
        "        \n",
        "        # Add Fvol here (512) !!!\n",
        "        \n",
        "        out = self.linear1(out)\n",
        "\n",
        "        return out, z"
      ]
    },
    {
      "cell_type": "code",
      "execution_count": null,
      "metadata": {
        "id": "KzxGlG9I_hhv"
      },
      "outputs": [],
      "source": []
    }
  ],
  "metadata": {
    "kernelspec": {
      "display_name": "DMTet",
      "language": "python",
      "name": "dmtet"
    },
    "language_info": {
      "codemirror_mode": {
        "name": "ipython",
        "version": 3
      },
      "file_extension": ".py",
      "mimetype": "text/x-python",
      "name": "python",
      "nbconvert_exporter": "python",
      "pygments_lexer": "ipython3",
      "version": "3.8.6"
    },
    "colab": {
      "provenance": [],
      "include_colab_link": true
    }
  },
  "nbformat": 4,
  "nbformat_minor": 0
}