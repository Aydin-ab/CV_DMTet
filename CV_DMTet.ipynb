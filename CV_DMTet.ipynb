{
  "nbformat": 4,
  "nbformat_minor": 0,
  "metadata": {
    "colab": {
      "provenance": [],
      "include_colab_link": true
    },
    "kernelspec": {
      "name": "python3",
      "display_name": "Python 3"
    },
    "language_info": {
      "name": "python"
    },
    "accelerator": "GPU",
    "gpuClass": "standard"
  },
  "cells": [
    {
      "cell_type": "markdown",
      "metadata": {
        "id": "view-in-github",
        "colab_type": "text"
      },
      "source": [
        "<a href=\"https://colab.research.google.com/github/Aydin-ab/CV_DMTet/blob/main/CV_DMTet.ipynb\" target=\"_parent\"><img src=\"https://colab.research.google.com/assets/colab-badge.svg\" alt=\"Open In Colab\"/></a>"
      ]
    },
    {
      "cell_type": "markdown",
      "source": [
        "# Installing Dependencies: Kaolin and PyTorch3D"
      ],
      "metadata": {
        "id": "1Af_jBwcMwG8"
      }
    },
    {
      "cell_type": "code",
      "source": [
        "from google.colab import drive\n",
        "drive.mount('/content/drive')\n",
        "from pathlib import Path\n",
        "INSTALL_PATH = Path(\"/content/drive/'My Drive'/CV_DMTet/\")\n",
        "%cd  $INSTALL_PATH"
      ],
      "metadata": {
        "colab": {
          "base_uri": "https://localhost:8080/"
        },
        "id": "soEkYrVqLMhx",
        "outputId": "402d2391-267c-409e-cb1b-758a1405fb30"
      },
      "execution_count": 1,
      "outputs": [
        {
          "output_type": "stream",
          "name": "stdout",
          "text": [
            "Mounted at /content/drive\n",
            "/content/drive/My Drive/CV_DMTet\n"
          ]
        }
      ]
    },
    {
      "cell_type": "code",
      "execution_count": 2,
      "metadata": {
        "id": "9x7VxtwyMthl",
        "colab": {
          "base_uri": "https://localhost:8080/"
        },
        "outputId": "77acdb78-0d54-4504-b4b9-82aec2a9e793"
      },
      "outputs": [
        {
          "output_type": "stream",
          "name": "stdout",
          "text": [
            "Found existing installation: Cython 0.29.32\n",
            "Uninstalling Cython-0.29.32:\n",
            "  Successfully uninstalled Cython-0.29.32\n",
            "\u001b[K     |████████████████████████████████| 2.0 MB 29.7 MB/s \n",
            "\u001b[K     |████████████████████████████████| 24.4 MB 1.2 MB/s \n",
            "\u001b[?25h"
          ]
        }
      ],
      "source": [
        "# reinstall cython, install usd-core (for 3D rendering), and clone into kaolin repo\n",
        "!pip uninstall Cython --yes\n",
        "!pip install Cython==0.29.20  --quiet\n",
        "!pip install usd-core --quiet\n",
        "# !git clone --recursive https://github.com/NVIDIAGameWorks/kaolin\n",
        "# %cd kaolin"
      ]
    },
    {
      "cell_type": "code",
      "source": [
        "# installing kaolin and check version\n",
        "%env IGNORE_TORCH_VER=1\n",
        "%env KAOLIN_INSTALL_EXPERIMENTAL=1\n",
        "KAOLIN_PATH = INSTALL_PATH / \"kaolin\"\n",
        "%cd $INSTALL_PATH\n",
        "!if [ ! -d $KAOLIN_PATH ]; then git clone --recursive https://github.com/NVIDIAGameWorks/kaolin; fi;\n",
        "%cd $KAOLIN_PATH\n",
        "SETUP_CHECK = KAOLIN_PATH / \"kaolin\" / \"version.py\"\n",
        "!echo Checking if $SETUP_CHECK exists\n",
        "!if [ ! -f $SETUP_CHECK ]; then python setup.py develop; fi;\n",
        "# !python -c \"import kaolin; print(kaolin.__version__)\""
      ],
      "metadata": {
        "id": "TCC2bsPsNXcX",
        "colab": {
          "base_uri": "https://localhost:8080/"
        },
        "outputId": "843008dd-6d36-4f81-a92e-2256729e7e1d"
      },
      "execution_count": 3,
      "outputs": [
        {
          "output_type": "stream",
          "name": "stdout",
          "text": [
            "env: IGNORE_TORCH_VER=1\n",
            "env: KAOLIN_INSTALL_EXPERIMENTAL=1\n",
            "/content/drive/My Drive/CV_DMTet\n",
            "/content/drive/My Drive/CV_DMTet/kaolin\n",
            "Checking if /content/drive/My Drive/CV_DMTet/kaolin/kaolin/version.py exists\n"
          ]
        }
      ]
    },
    {
      "cell_type": "code",
      "source": [
        "!python setup.py install_lib install_scripts build"
      ],
      "metadata": {
        "id": "C1ZF76ecdeQE",
        "outputId": "2e06c2f1-2ccb-4c8b-86c6-e88674727541",
        "colab": {
          "base_uri": "https://localhost:8080/"
        }
      },
      "execution_count": 4,
      "outputs": [
        {
          "output_type": "stream",
          "name": "stdout",
          "text": [
            "Warning: passing language='c++' to cythonize() is deprecated. Instead, put \"# distutils: language=c++\" in your .pyx or .pxd file(s)\n",
            "Compiling kaolin/cython/ops/mesh/triangle_hash.pyx because it depends on /usr/local/lib/python3.7/dist-packages/Cython/Includes/libcpp/vector.pxd.\n",
            "Compiling kaolin/cython/ops/conversions/mise.pyx because it depends on /usr/local/lib/python3.7/dist-packages/Cython/Includes/libcpp/vector.pxd.\n",
            "[1/2] Cythonizing kaolin/cython/ops/conversions/mise.pyx\n",
            "/usr/local/lib/python3.7/dist-packages/Cython/Compiler/Main.py:369: FutureWarning: Cython directive 'language_level' not set, using 2 for now (Py2). This will change in a later release! File: /content/drive/My Drive/CV_DMTet/kaolin/kaolin/cython/ops/conversions/mise.pyx\n",
            "  tree = Parsing.p_module(s, pxd, full_module_name)\n",
            "warning: kaolin/cython/ops/conversions/mise.pyx:90:33: Not all members given for struct 'Voxel'\n",
            "warning: kaolin/cython/ops/conversions/mise.pyx:90:33: Not all members given for struct 'Voxel'\n",
            "warning: kaolin/cython/ops/conversions/mise.pyx:284:33: Not all members given for struct 'Voxel'\n",
            "warning: kaolin/cython/ops/conversions/mise.pyx:284:33: Not all members given for struct 'Voxel'\n",
            "[2/2] Cythonizing kaolin/cython/ops/mesh/triangle_hash.pyx\n",
            "/usr/local/lib/python3.7/dist-packages/Cython/Compiler/Main.py:369: FutureWarning: Cython directive 'language_level' not set, using 2 for now (Py2). This will change in a later release! File: /content/drive/My Drive/CV_DMTet/kaolin/kaolin/cython/ops/mesh/triangle_hash.pyx\n",
            "  tree = Parsing.p_module(s, pxd, full_module_name)\n",
            "running install_lib\n",
            "running build_py\n",
            "copying kaolin/version.py -> build/lib.linux-x86_64-3.7/kaolin\n",
            "running egg_info\n",
            "writing kaolin.egg-info/PKG-INFO\n",
            "writing dependency_links to kaolin.egg-info/dependency_links.txt\n",
            "writing requirements to kaolin.egg-info/requires.txt\n",
            "writing top-level names to kaolin.egg-info/top_level.txt\n",
            "/usr/local/lib/python3.7/dist-packages/torch/utils/cpp_extension.py:411: UserWarning: Attempted to use ninja as the BuildExtension backend but we could not find ninja.. Falling back to using the slow distutils backend.\n",
            "  warnings.warn(msg.format('we could not find ninja.'))\n",
            "reading manifest template 'MANIFEST.in'\n",
            "adding license file 'LICENSE'\n",
            "writing manifest file 'kaolin.egg-info/SOURCES.txt'\n",
            "copying kaolin/cython/ops/conversions/mise.cpp -> build/lib.linux-x86_64-3.7/kaolin/cython/ops/conversions\n",
            "copying kaolin/cython/ops/mesh/triangle_hash.cpp -> build/lib.linux-x86_64-3.7/kaolin/cython/ops/mesh\n",
            "running build_ext\n",
            "/usr/local/lib/python3.7/dist-packages/torch/utils/cpp_extension.py:813: UserWarning: The detected CUDA version (11.2) has a minor version mismatch with the version that was used to compile PyTorch (11.3). Most likely this shouldn't be a problem.\n",
            "  warnings.warn(CUDA_MISMATCH_WARN.format(cuda_str_version, torch.version.cuda))\n",
            "building 'kaolin.ops.mesh.triangle_hash' extension\n",
            "x86_64-linux-gnu-gcc -pthread -Wno-unused-result -Wsign-compare -DNDEBUG -g -fwrapv -O2 -Wall -g -fstack-protector-strong -Wformat -Werror=format-security -g -fwrapv -O2 -g -fstack-protector-strong -Wformat -Werror=format-security -Wdate-time -D_FORTIFY_SOURCE=2 -fPIC -I/usr/local/lib/python3.7/dist-packages/numpy/core/include -I/usr/local/lib/python3.7/dist-packages/torch/include -I/usr/local/lib/python3.7/dist-packages/torch/include/torch/csrc/api/include -I/usr/local/lib/python3.7/dist-packages/torch/include/TH -I/usr/local/lib/python3.7/dist-packages/torch/include/THC -I/usr/include/python3.7m -c kaolin/cython/ops/mesh/triangle_hash.cpp -o build/temp.linux-x86_64-3.7/kaolin/cython/ops/mesh/triangle_hash.o -DTORCH_API_INCLUDE_EXTENSION_H -DPYBIND11_COMPILER_TYPE=\"_gcc\" -DPYBIND11_STDLIB=\"_libstdcpp\" -DPYBIND11_BUILD_ABI=\"_cxxabi1011\" -DTORCH_EXTENSION_NAME=triangle_hash -D_GLIBCXX_USE_CXX11_ABI=0 -std=c++14\n",
            "In file included from \u001b[01m\u001b[K/usr/local/lib/python3.7/dist-packages/numpy/core/include/numpy/ndarraytypes.h:1969:0\u001b[m\u001b[K,\n",
            "                 from \u001b[01m\u001b[K/usr/local/lib/python3.7/dist-packages/numpy/core/include/numpy/ndarrayobject.h:12\u001b[m\u001b[K,\n",
            "                 from \u001b[01m\u001b[K/usr/local/lib/python3.7/dist-packages/numpy/core/include/numpy/arrayobject.h:4\u001b[m\u001b[K,\n",
            "                 from \u001b[01m\u001b[Kkaolin/cython/ops/mesh/triangle_hash.cpp:656\u001b[m\u001b[K:\n",
            "\u001b[01m\u001b[K/usr/local/lib/python3.7/dist-packages/numpy/core/include/numpy/npy_1_7_deprecated_api.h:17:2:\u001b[m\u001b[K \u001b[01;35m\u001b[Kwarning: \u001b[m\u001b[K#warning \"Using deprecated NumPy API, disable it with \" \"#define NPY_NO_DEPRECATED_API NPY_1_7_API_VERSION\" [\u001b[01;35m\u001b[K-Wcpp\u001b[m\u001b[K]\n",
            " #\u001b[01;35m\u001b[Kwarning\u001b[m\u001b[K \"Using deprecated NumPy API, disable it with \" \\\n",
            "  \u001b[01;35m\u001b[K^~~~~~~\u001b[m\u001b[K\n",
            "\u001b[01m\u001b[Kkaolin/cython/ops/mesh/triangle_hash.cpp:\u001b[m\u001b[K In function ‘\u001b[01m\u001b[KPyObject* __pyx_f_6kaolin_3ops_4mesh_13triangle_hash_12TriangleHash_query(__pyx_obj_6kaolin_3ops_4mesh_13triangle_hash_TriangleHash*, __Pyx_memviewslice, int)\u001b[m\u001b[K’:\n",
            "\u001b[01m\u001b[Kkaolin/cython/ops/mesh/triangle_hash.cpp:2880:33:\u001b[m\u001b[K \u001b[01;35m\u001b[Kwarning: \u001b[m\u001b[Kcomparison between signed and unsigned integer expressions [\u001b[01;35m\u001b[K-Wsign-compare\u001b[m\u001b[K]\n",
            "   for (__pyx_t_6 = 0; \u001b[01;35m\u001b[K__pyx_t_6 < __pyx_t_19\u001b[m\u001b[K; __pyx_t_6+=1) {\n",
            "                       \u001b[01;35m\u001b[K~~~~~~~~~~^~~~~~~~~~~~\u001b[m\u001b[K\n",
            "\u001b[01m\u001b[Kkaolin/cython/ops/mesh/triangle_hash.cpp:2889:33:\u001b[m\u001b[K \u001b[01;35m\u001b[Kwarning: \u001b[m\u001b[Kcomparison between signed and unsigned integer expressions [\u001b[01;35m\u001b[K-Wsign-compare\u001b[m\u001b[K]\n",
            "   for (__pyx_t_6 = 0; \u001b[01;35m\u001b[K__pyx_t_6 < __pyx_t_19\u001b[m\u001b[K; __pyx_t_6+=1) {\n",
            "                       \u001b[01;35m\u001b[K~~~~~~~~~~^~~~~~~~~~~~\u001b[m\u001b[K\n",
            "x86_64-linux-gnu-g++ -pthread -shared -Wl,-O1 -Wl,-Bsymbolic-functions -Wl,-Bsymbolic-functions -g -fwrapv -O2 -Wl,-Bsymbolic-functions -g -fwrapv -O2 -g -fstack-protector-strong -Wformat -Werror=format-security -Wdate-time -D_FORTIFY_SOURCE=2 build/temp.linux-x86_64-3.7/kaolin/cython/ops/mesh/triangle_hash.o -L/usr/local/lib/python3.7/dist-packages/torch/lib -lc10 -ltorch -ltorch_cpu -ltorch_python -o build/lib.linux-x86_64-3.7/kaolin/ops/mesh/triangle_hash.so\n",
            "building 'kaolin.ops.conversions.mise' extension\n",
            "x86_64-linux-gnu-gcc -pthread -Wno-unused-result -Wsign-compare -DNDEBUG -g -fwrapv -O2 -Wall -g -fstack-protector-strong -Wformat -Werror=format-security -g -fwrapv -O2 -g -fstack-protector-strong -Wformat -Werror=format-security -Wdate-time -D_FORTIFY_SOURCE=2 -fPIC -I/usr/local/lib/python3.7/dist-packages/torch/include -I/usr/local/lib/python3.7/dist-packages/torch/include/torch/csrc/api/include -I/usr/local/lib/python3.7/dist-packages/torch/include/TH -I/usr/local/lib/python3.7/dist-packages/torch/include/THC -I/usr/include/python3.7m -c kaolin/cython/ops/conversions/mise.cpp -o build/temp.linux-x86_64-3.7/kaolin/cython/ops/conversions/mise.o -DTORCH_API_INCLUDE_EXTENSION_H -DPYBIND11_COMPILER_TYPE=\"_gcc\" -DPYBIND11_STDLIB=\"_libstdcpp\" -DPYBIND11_BUILD_ABI=\"_cxxabi1011\" -DTORCH_EXTENSION_NAME=mise -D_GLIBCXX_USE_CXX11_ABI=0 -std=c++14\n",
            "\u001b[01m\u001b[Kkaolin/cython/ops/conversions/mise.cpp:\u001b[m\u001b[K In function ‘\u001b[01m\u001b[KPyObject* __pyx_pf_6kaolin_3ops_11conversions_4mise_4MISE_8get_points(__pyx_obj_6kaolin_3ops_11conversions_4mise_MISE*)\u001b[m\u001b[K’:\n",
            "\u001b[01m\u001b[Kkaolin/cython/ops/conversions/mise.cpp:3476:35:\u001b[m\u001b[K \u001b[01;35m\u001b[Kwarning: \u001b[m\u001b[Kcomparison between signed and unsigned integer expressions [\u001b[01;35m\u001b[K-Wsign-compare\u001b[m\u001b[K]\n",
            "   for (__pyx_t_10 = 0; \u001b[01;35m\u001b[K__pyx_t_10 < __pyx_t_9\u001b[m\u001b[K; __pyx_t_10+=1) {\n",
            "                        \u001b[01;35m\u001b[K~~~~~~~~~~~^~~~~~~~~~~\u001b[m\u001b[K\n",
            "\u001b[01m\u001b[Kkaolin/cython/ops/conversions/mise.cpp:\u001b[m\u001b[K In function ‘\u001b[01m\u001b[Kvoid __pyx_f_6kaolin_3ops_11conversions_4mise_4MISE_subdivide_voxels(__pyx_obj_6kaolin_3ops_11conversions_4mise_MISE*)\u001b[m\u001b[K’:\n",
            "\u001b[01m\u001b[Kkaolin/cython/ops/conversions/mise.cpp:3703:33:\u001b[m\u001b[K \u001b[01;35m\u001b[Kwarning: \u001b[m\u001b[Kcomparison between signed and unsigned integer expressions [\u001b[01;35m\u001b[K-Wsign-compare\u001b[m\u001b[K]\n",
            "   for (__pyx_t_9 = 0; \u001b[01;35m\u001b[K__pyx_t_9 < __pyx_t_11\u001b[m\u001b[K; __pyx_t_9+=1) {\n",
            "                       \u001b[01;35m\u001b[K~~~~~~~~~~^~~~~~~~~~~~\u001b[m\u001b[K\n",
            "\u001b[01m\u001b[Kkaolin/cython/ops/conversions/mise.cpp:3712:62:\u001b[m\u001b[K \u001b[01;35m\u001b[Kwarning: \u001b[m\u001b[Kcomparison between signed and unsigned integer expressions [\u001b[01;35m\u001b[K-Wsign-compare\u001b[m\u001b[K]\n",
            "     __pyx_t_12 = (((__pyx_v_self->voxels[__pyx_v_idx]).level == __pyx_v_self->depth) != 0);\n",
            "\u001b[01m\u001b[Kkaolin/cython/ops/conversions/mise.cpp:3744:33:\u001b[m\u001b[K \u001b[01;35m\u001b[Kwarning: \u001b[m\u001b[Kcomparison between signed and unsigned integer expressions [\u001b[01;35m\u001b[K-Wsign-compare\u001b[m\u001b[K]\n",
            "   for (__pyx_t_9 = 0; \u001b[01;35m\u001b[K__pyx_t_9 < __pyx_t_11\u001b[m\u001b[K; __pyx_t_9+=1) {\n",
            "                       \u001b[01;35m\u001b[K~~~~~~~~~~^~~~~~~~~~~~\u001b[m\u001b[K\n",
            "\u001b[01m\u001b[Kkaolin/cython/ops/conversions/mise.cpp:3753:62:\u001b[m\u001b[K \u001b[01;35m\u001b[Kwarning: \u001b[m\u001b[Kcomparison between signed and unsigned integer expressions [\u001b[01;35m\u001b[K-Wsign-compare\u001b[m\u001b[K]\n",
            "     __pyx_t_12 = (((__pyx_v_self->voxels[__pyx_v_idx]).level == __pyx_v_self->depth) != 0);\n",
            "\u001b[01m\u001b[Kkaolin/cython/ops/conversions/mise.cpp:\u001b[m\u001b[K At global scope:\n",
            "\u001b[01m\u001b[Kkaolin/cython/ops/conversions/mise.cpp:15782:18:\u001b[m\u001b[K \u001b[01;35m\u001b[Kwarning: \u001b[m\u001b[K‘\u001b[01m\u001b[KPyObject* __pyx_convert__to_py_struct____pyx_t_6kaolin_3ops_11conversions_4mise_Vector3D(__pyx_t_6kaolin_3ops_11conversions_4mise_Vector3D)\u001b[m\u001b[K’ defined but not used [\u001b[01;35m\u001b[K-Wunused-function\u001b[m\u001b[K]\n",
            " static PyObject* \u001b[01;35m\u001b[K__pyx_convert__to_py_struct____pyx_t_6kaolin_3ops_11conversions_4mise_Vector3D\u001b[m\u001b[K(struct __pyx_t_6kaolin_3ops_11conversions_4mise_Vector3D s) {\n",
            "                  \u001b[01;35m\u001b[K^~~~~~~~~~~~~~~~~~~~~~~~~~~~~~~~~~~~~~~~~~~~~~~~~~~~~~~~~~~~~~~~~~~~~~~~~~~~~~\u001b[m\u001b[K\n",
            "x86_64-linux-gnu-g++ -pthread -shared -Wl,-O1 -Wl,-Bsymbolic-functions -Wl,-Bsymbolic-functions -g -fwrapv -O2 -Wl,-Bsymbolic-functions -g -fwrapv -O2 -g -fstack-protector-strong -Wformat -Werror=format-security -Wdate-time -D_FORTIFY_SOURCE=2 build/temp.linux-x86_64-3.7/kaolin/cython/ops/conversions/mise.o -L/usr/local/lib/python3.7/dist-packages/torch/lib -lc10 -ltorch -ltorch_cpu -ltorch_python -o build/lib.linux-x86_64-3.7/kaolin/ops/conversions/mise.so\n",
            "creating /usr/local/lib/python3.7/dist-packages/kaolin\n",
            "copying build/lib.linux-x86_64-3.7/kaolin/__init__.py -> /usr/local/lib/python3.7/dist-packages/kaolin\n",
            "copying build/lib.linux-x86_64-3.7/kaolin/_C.so -> /usr/local/lib/python3.7/dist-packages/kaolin\n",
            "creating /usr/local/lib/python3.7/dist-packages/kaolin/ops\n",
            "copying build/lib.linux-x86_64-3.7/kaolin/ops/reduction.py -> /usr/local/lib/python3.7/dist-packages/kaolin/ops\n",
            "copying build/lib.linux-x86_64-3.7/kaolin/ops/voxelgrid.py -> /usr/local/lib/python3.7/dist-packages/kaolin/ops\n",
            "copying build/lib.linux-x86_64-3.7/kaolin/ops/gcn.py -> /usr/local/lib/python3.7/dist-packages/kaolin/ops\n",
            "copying build/lib.linux-x86_64-3.7/kaolin/ops/__init__.py -> /usr/local/lib/python3.7/dist-packages/kaolin/ops\n",
            "copying build/lib.linux-x86_64-3.7/kaolin/ops/coords.py -> /usr/local/lib/python3.7/dist-packages/kaolin/ops\n",
            "copying build/lib.linux-x86_64-3.7/kaolin/ops/batch.py -> /usr/local/lib/python3.7/dist-packages/kaolin/ops\n",
            "copying build/lib.linux-x86_64-3.7/kaolin/ops/random.py -> /usr/local/lib/python3.7/dist-packages/kaolin/ops\n",
            "creating /usr/local/lib/python3.7/dist-packages/kaolin/ops/mesh\n",
            "copying build/lib.linux-x86_64-3.7/kaolin/ops/mesh/__init__.py -> /usr/local/lib/python3.7/dist-packages/kaolin/ops/mesh\n",
            "copying build/lib.linux-x86_64-3.7/kaolin/ops/mesh/mesh.py -> /usr/local/lib/python3.7/dist-packages/kaolin/ops/mesh\n",
            "copying build/lib.linux-x86_64-3.7/kaolin/ops/mesh/check_sign.py -> /usr/local/lib/python3.7/dist-packages/kaolin/ops/mesh\n",
            "copying build/lib.linux-x86_64-3.7/kaolin/ops/mesh/tetmesh.py -> /usr/local/lib/python3.7/dist-packages/kaolin/ops/mesh\n",
            "copying build/lib.linux-x86_64-3.7/kaolin/ops/mesh/trianglemesh.py -> /usr/local/lib/python3.7/dist-packages/kaolin/ops/mesh\n",
            "copying build/lib.linux-x86_64-3.7/kaolin/ops/mesh/triangle_hash.so -> /usr/local/lib/python3.7/dist-packages/kaolin/ops/mesh\n",
            "creating /usr/local/lib/python3.7/dist-packages/kaolin/ops/conversions\n",
            "copying build/lib.linux-x86_64-3.7/kaolin/ops/conversions/trianglemesh.py -> /usr/local/lib/python3.7/dist-packages/kaolin/ops/conversions\n",
            "copying build/lib.linux-x86_64-3.7/kaolin/ops/conversions/tetmesh.py -> /usr/local/lib/python3.7/dist-packages/kaolin/ops/conversions\n",
            "copying build/lib.linux-x86_64-3.7/kaolin/ops/conversions/voxelgrid.py -> /usr/local/lib/python3.7/dist-packages/kaolin/ops/conversions\n",
            "copying build/lib.linux-x86_64-3.7/kaolin/ops/conversions/pointcloud.py -> /usr/local/lib/python3.7/dist-packages/kaolin/ops/conversions\n",
            "copying build/lib.linux-x86_64-3.7/kaolin/ops/conversions/sdf.py -> /usr/local/lib/python3.7/dist-packages/kaolin/ops/conversions\n",
            "copying build/lib.linux-x86_64-3.7/kaolin/ops/conversions/__init__.py -> /usr/local/lib/python3.7/dist-packages/kaolin/ops/conversions\n",
            "copying build/lib.linux-x86_64-3.7/kaolin/ops/conversions/mise.so -> /usr/local/lib/python3.7/dist-packages/kaolin/ops/conversions\n",
            "creating /usr/local/lib/python3.7/dist-packages/kaolin/ops/spc\n",
            "copying build/lib.linux-x86_64-3.7/kaolin/ops/spc/spc.py -> /usr/local/lib/python3.7/dist-packages/kaolin/ops/spc\n",
            "copying build/lib.linux-x86_64-3.7/kaolin/ops/spc/points.py -> /usr/local/lib/python3.7/dist-packages/kaolin/ops/spc\n",
            "copying build/lib.linux-x86_64-3.7/kaolin/ops/spc/uint8.py -> /usr/local/lib/python3.7/dist-packages/kaolin/ops/spc\n",
            "copying build/lib.linux-x86_64-3.7/kaolin/ops/spc/__init__.py -> /usr/local/lib/python3.7/dist-packages/kaolin/ops/spc\n",
            "copying build/lib.linux-x86_64-3.7/kaolin/ops/spc/convolution.py -> /usr/local/lib/python3.7/dist-packages/kaolin/ops/spc\n",
            "creating /usr/local/lib/python3.7/dist-packages/kaolin/io\n",
            "copying build/lib.linux-x86_64-3.7/kaolin/io/__init__.py -> /usr/local/lib/python3.7/dist-packages/kaolin/io\n",
            "copying build/lib.linux-x86_64-3.7/kaolin/io/dataset.py -> /usr/local/lib/python3.7/dist-packages/kaolin/io\n",
            "copying build/lib.linux-x86_64-3.7/kaolin/io/render.py -> /usr/local/lib/python3.7/dist-packages/kaolin/io\n",
            "copying build/lib.linux-x86_64-3.7/kaolin/io/obj.py -> /usr/local/lib/python3.7/dist-packages/kaolin/io\n",
            "copying build/lib.linux-x86_64-3.7/kaolin/io/modelnet.py -> /usr/local/lib/python3.7/dist-packages/kaolin/io\n",
            "copying build/lib.linux-x86_64-3.7/kaolin/io/off.py -> /usr/local/lib/python3.7/dist-packages/kaolin/io\n",
            "copying build/lib.linux-x86_64-3.7/kaolin/io/materials.py -> /usr/local/lib/python3.7/dist-packages/kaolin/io\n",
            "copying build/lib.linux-x86_64-3.7/kaolin/io/usd.py -> /usr/local/lib/python3.7/dist-packages/kaolin/io\n",
            "copying build/lib.linux-x86_64-3.7/kaolin/io/utils.py -> /usr/local/lib/python3.7/dist-packages/kaolin/io\n",
            "copying build/lib.linux-x86_64-3.7/kaolin/io/shrec.py -> /usr/local/lib/python3.7/dist-packages/kaolin/io\n",
            "copying build/lib.linux-x86_64-3.7/kaolin/io/shapenet.py -> /usr/local/lib/python3.7/dist-packages/kaolin/io\n",
            "creating /usr/local/lib/python3.7/dist-packages/kaolin/metrics\n",
            "copying build/lib.linux-x86_64-3.7/kaolin/metrics/tetmesh.py -> /usr/local/lib/python3.7/dist-packages/kaolin/metrics\n",
            "copying build/lib.linux-x86_64-3.7/kaolin/metrics/render.py -> /usr/local/lib/python3.7/dist-packages/kaolin/metrics\n",
            "copying build/lib.linux-x86_64-3.7/kaolin/metrics/voxelgrid.py -> /usr/local/lib/python3.7/dist-packages/kaolin/metrics\n",
            "copying build/lib.linux-x86_64-3.7/kaolin/metrics/__init__.py -> /usr/local/lib/python3.7/dist-packages/kaolin/metrics\n",
            "copying build/lib.linux-x86_64-3.7/kaolin/metrics/trianglemesh.py -> /usr/local/lib/python3.7/dist-packages/kaolin/metrics\n",
            "copying build/lib.linux-x86_64-3.7/kaolin/metrics/pointcloud.py -> /usr/local/lib/python3.7/dist-packages/kaolin/metrics\n",
            "creating /usr/local/lib/python3.7/dist-packages/kaolin/render\n",
            "copying build/lib.linux-x86_64-3.7/kaolin/render/__init__.py -> /usr/local/lib/python3.7/dist-packages/kaolin/render\n",
            "creating /usr/local/lib/python3.7/dist-packages/kaolin/render/camera\n",
            "copying build/lib.linux-x86_64-3.7/kaolin/render/camera/intrinsics_pinhole.py -> /usr/local/lib/python3.7/dist-packages/kaolin/render/camera\n",
            "copying build/lib.linux-x86_64-3.7/kaolin/render/camera/intrinsics_ortho.py -> /usr/local/lib/python3.7/dist-packages/kaolin/render/camera\n",
            "copying build/lib.linux-x86_64-3.7/kaolin/render/camera/camera.py -> /usr/local/lib/python3.7/dist-packages/kaolin/render/camera\n",
            "copying build/lib.linux-x86_64-3.7/kaolin/render/camera/legacy.py -> /usr/local/lib/python3.7/dist-packages/kaolin/render/camera\n",
            "copying build/lib.linux-x86_64-3.7/kaolin/render/camera/__init__.py -> /usr/local/lib/python3.7/dist-packages/kaolin/render/camera\n",
            "copying build/lib.linux-x86_64-3.7/kaolin/render/camera/extrinsics.py -> /usr/local/lib/python3.7/dist-packages/kaolin/render/camera\n",
            "copying build/lib.linux-x86_64-3.7/kaolin/render/camera/intrinsics.py -> /usr/local/lib/python3.7/dist-packages/kaolin/render/camera\n",
            "copying build/lib.linux-x86_64-3.7/kaolin/render/camera/coordinates.py -> /usr/local/lib/python3.7/dist-packages/kaolin/render/camera\n",
            "copying build/lib.linux-x86_64-3.7/kaolin/render/camera/extrinsics_backends.py -> /usr/local/lib/python3.7/dist-packages/kaolin/render/camera\n",
            "creating /usr/local/lib/python3.7/dist-packages/kaolin/render/mesh\n",
            "copying build/lib.linux-x86_64-3.7/kaolin/render/mesh/dibr.py -> /usr/local/lib/python3.7/dist-packages/kaolin/render/mesh\n",
            "copying build/lib.linux-x86_64-3.7/kaolin/render/mesh/deftet.py -> /usr/local/lib/python3.7/dist-packages/kaolin/render/mesh\n",
            "copying build/lib.linux-x86_64-3.7/kaolin/render/mesh/utils.py -> /usr/local/lib/python3.7/dist-packages/kaolin/render/mesh\n",
            "copying build/lib.linux-x86_64-3.7/kaolin/render/mesh/__init__.py -> /usr/local/lib/python3.7/dist-packages/kaolin/render/mesh\n",
            "copying build/lib.linux-x86_64-3.7/kaolin/render/mesh/rasterization.py -> /usr/local/lib/python3.7/dist-packages/kaolin/render/mesh\n",
            "creating /usr/local/lib/python3.7/dist-packages/kaolin/render/spc\n",
            "copying build/lib.linux-x86_64-3.7/kaolin/render/spc/__init__.py -> /usr/local/lib/python3.7/dist-packages/kaolin/render/spc\n",
            "copying build/lib.linux-x86_64-3.7/kaolin/render/spc/raytrace.py -> /usr/local/lib/python3.7/dist-packages/kaolin/render/spc\n",
            "creating /usr/local/lib/python3.7/dist-packages/kaolin/rep\n",
            "copying build/lib.linux-x86_64-3.7/kaolin/rep/spc.py -> /usr/local/lib/python3.7/dist-packages/kaolin/rep\n",
            "copying build/lib.linux-x86_64-3.7/kaolin/rep/__init__.py -> /usr/local/lib/python3.7/dist-packages/kaolin/rep\n",
            "creating /usr/local/lib/python3.7/dist-packages/kaolin/utils\n",
            "copying build/lib.linux-x86_64-3.7/kaolin/utils/testing.py -> /usr/local/lib/python3.7/dist-packages/kaolin/utils\n",
            "copying build/lib.linux-x86_64-3.7/kaolin/utils/__init__.py -> /usr/local/lib/python3.7/dist-packages/kaolin/utils\n",
            "creating /usr/local/lib/python3.7/dist-packages/kaolin/visualize\n",
            "copying build/lib.linux-x86_64-3.7/kaolin/visualize/__init__.py -> /usr/local/lib/python3.7/dist-packages/kaolin/visualize\n",
            "copying build/lib.linux-x86_64-3.7/kaolin/visualize/timelapse.py -> /usr/local/lib/python3.7/dist-packages/kaolin/visualize\n",
            "creating /usr/local/lib/python3.7/dist-packages/kaolin/csrc\n",
            "copying build/lib.linux-x86_64-3.7/kaolin/csrc/bindings.cpp -> /usr/local/lib/python3.7/dist-packages/kaolin/csrc\n",
            "copying build/lib.linux-x86_64-3.7/kaolin/csrc/utils.h -> /usr/local/lib/python3.7/dist-packages/kaolin/csrc\n",
            "copying build/lib.linux-x86_64-3.7/kaolin/csrc/packed_base.cuh -> /usr/local/lib/python3.7/dist-packages/kaolin/csrc\n",
            "copying build/lib.linux-x86_64-3.7/kaolin/csrc/check.h -> /usr/local/lib/python3.7/dist-packages/kaolin/csrc\n",
            "copying build/lib.linux-x86_64-3.7/kaolin/csrc/spc_utils.cuh -> /usr/local/lib/python3.7/dist-packages/kaolin/csrc\n",
            "copying build/lib.linux-x86_64-3.7/kaolin/csrc/spc_math.h -> /usr/local/lib/python3.7/dist-packages/kaolin/csrc\n",
            "copying build/lib.linux-x86_64-3.7/kaolin/csrc/2d_math.cuh -> /usr/local/lib/python3.7/dist-packages/kaolin/csrc\n",
            "copying build/lib.linux-x86_64-3.7/kaolin/csrc/3d_math.cuh -> /usr/local/lib/python3.7/dist-packages/kaolin/csrc\n",
            "creating /usr/local/lib/python3.7/dist-packages/kaolin/csrc/metrics\n",
            "copying build/lib.linux-x86_64-3.7/kaolin/csrc/metrics/unbatched_triangle_distance.h -> /usr/local/lib/python3.7/dist-packages/kaolin/csrc/metrics\n",
            "copying build/lib.linux-x86_64-3.7/kaolin/csrc/metrics/sided_distance.cpp -> /usr/local/lib/python3.7/dist-packages/kaolin/csrc/metrics\n",
            "copying build/lib.linux-x86_64-3.7/kaolin/csrc/metrics/sided_distance_cuda.cu -> /usr/local/lib/python3.7/dist-packages/kaolin/csrc/metrics\n",
            "copying build/lib.linux-x86_64-3.7/kaolin/csrc/metrics/sided_distance.h -> /usr/local/lib/python3.7/dist-packages/kaolin/csrc/metrics\n",
            "copying build/lib.linux-x86_64-3.7/kaolin/csrc/metrics/unbatched_triangle_distance_cuda.cu -> /usr/local/lib/python3.7/dist-packages/kaolin/csrc/metrics\n",
            "copying build/lib.linux-x86_64-3.7/kaolin/csrc/metrics/unbatched_triangle_distance.cpp -> /usr/local/lib/python3.7/dist-packages/kaolin/csrc/metrics\n",
            "creating /usr/local/lib/python3.7/dist-packages/kaolin/csrc/ops\n",
            "copying build/lib.linux-x86_64-3.7/kaolin/csrc/ops/tile_to_packed_cuda.cu -> /usr/local/lib/python3.7/dist-packages/kaolin/csrc/ops\n",
            "copying build/lib.linux-x86_64-3.7/kaolin/csrc/ops/packed_simple_sum.h -> /usr/local/lib/python3.7/dist-packages/kaolin/csrc/ops\n",
            "copying build/lib.linux-x86_64-3.7/kaolin/csrc/ops/tile_to_packed.h -> /usr/local/lib/python3.7/dist-packages/kaolin/csrc/ops\n",
            "copying build/lib.linux-x86_64-3.7/kaolin/csrc/ops/packed_simple_sum_cuda.cu -> /usr/local/lib/python3.7/dist-packages/kaolin/csrc/ops\n",
            "copying build/lib.linux-x86_64-3.7/kaolin/csrc/ops/tile_to_packed.cpp -> /usr/local/lib/python3.7/dist-packages/kaolin/csrc/ops\n",
            "copying build/lib.linux-x86_64-3.7/kaolin/csrc/ops/packed_simple_sum.cpp -> /usr/local/lib/python3.7/dist-packages/kaolin/csrc/ops\n",
            "creating /usr/local/lib/python3.7/dist-packages/kaolin/csrc/ops/conversions\n",
            "creating /usr/local/lib/python3.7/dist-packages/kaolin/csrc/ops/conversions/mesh_to_spc\n",
            "copying build/lib.linux-x86_64-3.7/kaolin/csrc/ops/conversions/mesh_to_spc/mesh_to_spc.h -> /usr/local/lib/python3.7/dist-packages/kaolin/csrc/ops/conversions/mesh_to_spc\n",
            "copying build/lib.linux-x86_64-3.7/kaolin/csrc/ops/conversions/mesh_to_spc/mesh_to_spc.cpp -> /usr/local/lib/python3.7/dist-packages/kaolin/csrc/ops/conversions/mesh_to_spc\n",
            "copying build/lib.linux-x86_64-3.7/kaolin/csrc/ops/conversions/mesh_to_spc/mesh_to_spc_cuda.cu -> /usr/local/lib/python3.7/dist-packages/kaolin/csrc/ops/conversions/mesh_to_spc\n",
            "creating /usr/local/lib/python3.7/dist-packages/kaolin/csrc/ops/conversions/unbatched_mcube\n",
            "copying build/lib.linux-x86_64-3.7/kaolin/csrc/ops/conversions/unbatched_mcube/unbatched_mcube.h -> /usr/local/lib/python3.7/dist-packages/kaolin/csrc/ops/conversions/unbatched_mcube\n",
            "copying build/lib.linux-x86_64-3.7/kaolin/csrc/ops/conversions/unbatched_mcube/helper_math.h -> /usr/local/lib/python3.7/dist-packages/kaolin/csrc/ops/conversions/unbatched_mcube\n",
            "copying build/lib.linux-x86_64-3.7/kaolin/csrc/ops/conversions/unbatched_mcube/tables.h -> /usr/local/lib/python3.7/dist-packages/kaolin/csrc/ops/conversions/unbatched_mcube\n",
            "copying build/lib.linux-x86_64-3.7/kaolin/csrc/ops/conversions/unbatched_mcube/unbatched_mcube.cpp -> /usr/local/lib/python3.7/dist-packages/kaolin/csrc/ops/conversions/unbatched_mcube\n",
            "copying build/lib.linux-x86_64-3.7/kaolin/csrc/ops/conversions/unbatched_mcube/defines.h -> /usr/local/lib/python3.7/dist-packages/kaolin/csrc/ops/conversions/unbatched_mcube\n",
            "copying build/lib.linux-x86_64-3.7/kaolin/csrc/ops/conversions/unbatched_mcube/unbatched_mcube_cuda.cu -> /usr/local/lib/python3.7/dist-packages/kaolin/csrc/ops/conversions/unbatched_mcube\n",
            "creating /usr/local/lib/python3.7/dist-packages/kaolin/csrc/ops/mesh\n",
            "copying build/lib.linux-x86_64-3.7/kaolin/csrc/ops/mesh/mesh_intersection.cpp -> /usr/local/lib/python3.7/dist-packages/kaolin/csrc/ops/mesh\n",
            "copying build/lib.linux-x86_64-3.7/kaolin/csrc/ops/mesh/mesh_intersection_cuda.cu -> /usr/local/lib/python3.7/dist-packages/kaolin/csrc/ops/mesh\n",
            "copying build/lib.linux-x86_64-3.7/kaolin/csrc/ops/mesh/mesh_intersection.h -> /usr/local/lib/python3.7/dist-packages/kaolin/csrc/ops/mesh\n",
            "creating /usr/local/lib/python3.7/dist-packages/kaolin/csrc/ops/spc\n",
            "copying build/lib.linux-x86_64-3.7/kaolin/csrc/ops/spc/generate_points.cu -> /usr/local/lib/python3.7/dist-packages/kaolin/csrc/ops/spc\n",
            "copying build/lib.linux-x86_64-3.7/kaolin/csrc/ops/spc/query.h -> /usr/local/lib/python3.7/dist-packages/kaolin/csrc/ops/spc\n",
            "copying build/lib.linux-x86_64-3.7/kaolin/csrc/ops/spc/point_utils.cpp -> /usr/local/lib/python3.7/dist-packages/kaolin/csrc/ops/spc\n",
            "copying build/lib.linux-x86_64-3.7/kaolin/csrc/ops/spc/query_cuda.cu -> /usr/local/lib/python3.7/dist-packages/kaolin/csrc/ops/spc\n",
            "copying build/lib.linux-x86_64-3.7/kaolin/csrc/ops/spc/minkowski_conv.cu -> /usr/local/lib/python3.7/dist-packages/kaolin/csrc/ops/spc\n",
            "copying build/lib.linux-x86_64-3.7/kaolin/csrc/ops/spc/convolution.cuh -> /usr/local/lib/python3.7/dist-packages/kaolin/csrc/ops/spc\n",
            "copying build/lib.linux-x86_64-3.7/kaolin/csrc/ops/spc/feature_grids.cpp -> /usr/local/lib/python3.7/dist-packages/kaolin/csrc/ops/spc\n",
            "copying build/lib.linux-x86_64-3.7/kaolin/csrc/ops/spc/query.cpp -> /usr/local/lib/python3.7/dist-packages/kaolin/csrc/ops/spc\n",
            "copying build/lib.linux-x86_64-3.7/kaolin/csrc/ops/spc/convolution_cuda.cu -> /usr/local/lib/python3.7/dist-packages/kaolin/csrc/ops/spc\n",
            "copying build/lib.linux-x86_64-3.7/kaolin/csrc/ops/spc/feature_grids.h -> /usr/local/lib/python3.7/dist-packages/kaolin/csrc/ops/spc\n",
            "copying build/lib.linux-x86_64-3.7/kaolin/csrc/ops/spc/feature_grids_cuda.cu -> /usr/local/lib/python3.7/dist-packages/kaolin/csrc/ops/spc\n",
            "copying build/lib.linux-x86_64-3.7/kaolin/csrc/ops/spc/point_utils_cuda.cu -> /usr/local/lib/python3.7/dist-packages/kaolin/csrc/ops/spc\n",
            "copying build/lib.linux-x86_64-3.7/kaolin/csrc/ops/spc/point_utils.h -> /usr/local/lib/python3.7/dist-packages/kaolin/csrc/ops/spc\n",
            "copying build/lib.linux-x86_64-3.7/kaolin/csrc/ops/spc/spc.cpp -> /usr/local/lib/python3.7/dist-packages/kaolin/csrc/ops/spc\n",
            "copying build/lib.linux-x86_64-3.7/kaolin/csrc/ops/spc/scan_octrees.cu -> /usr/local/lib/python3.7/dist-packages/kaolin/csrc/ops/spc\n",
            "copying build/lib.linux-x86_64-3.7/kaolin/csrc/ops/spc/convolution.cpp -> /usr/local/lib/python3.7/dist-packages/kaolin/csrc/ops/spc\n",
            "copying build/lib.linux-x86_64-3.7/kaolin/csrc/ops/spc/spc.h -> /usr/local/lib/python3.7/dist-packages/kaolin/csrc/ops/spc\n",
            "creating /usr/local/lib/python3.7/dist-packages/kaolin/csrc/render\n",
            "creating /usr/local/lib/python3.7/dist-packages/kaolin/csrc/render/mesh\n",
            "copying build/lib.linux-x86_64-3.7/kaolin/csrc/render/mesh/deftet.h -> /usr/local/lib/python3.7/dist-packages/kaolin/csrc/render/mesh\n",
            "copying build/lib.linux-x86_64-3.7/kaolin/csrc/render/mesh/rasterization.h -> /usr/local/lib/python3.7/dist-packages/kaolin/csrc/render/mesh\n",
            "copying build/lib.linux-x86_64-3.7/kaolin/csrc/render/mesh/dibr_soft_mask_cuda.cu -> /usr/local/lib/python3.7/dist-packages/kaolin/csrc/render/mesh\n",
            "copying build/lib.linux-x86_64-3.7/kaolin/csrc/render/mesh/dibr_soft_mask.h -> /usr/local/lib/python3.7/dist-packages/kaolin/csrc/render/mesh\n",
            "copying build/lib.linux-x86_64-3.7/kaolin/csrc/render/mesh/deftet_cuda.cu -> /usr/local/lib/python3.7/dist-packages/kaolin/csrc/render/mesh\n",
            "copying build/lib.linux-x86_64-3.7/kaolin/csrc/render/mesh/rasterization_cuda.cu -> /usr/local/lib/python3.7/dist-packages/kaolin/csrc/render/mesh\n",
            "copying build/lib.linux-x86_64-3.7/kaolin/csrc/render/mesh/rasterization.cpp -> /usr/local/lib/python3.7/dist-packages/kaolin/csrc/render/mesh\n",
            "copying build/lib.linux-x86_64-3.7/kaolin/csrc/render/mesh/deftet.cpp -> /usr/local/lib/python3.7/dist-packages/kaolin/csrc/render/mesh\n",
            "copying build/lib.linux-x86_64-3.7/kaolin/csrc/render/mesh/dibr_soft_mask.cpp -> /usr/local/lib/python3.7/dist-packages/kaolin/csrc/render/mesh\n",
            "creating /usr/local/lib/python3.7/dist-packages/kaolin/csrc/render/spc\n",
            "copying build/lib.linux-x86_64-3.7/kaolin/csrc/render/spc/raytrace.h -> /usr/local/lib/python3.7/dist-packages/kaolin/csrc/render/spc\n",
            "copying build/lib.linux-x86_64-3.7/kaolin/csrc/render/spc/raytrace_cuda.cu -> /usr/local/lib/python3.7/dist-packages/kaolin/csrc/render/spc\n",
            "copying build/lib.linux-x86_64-3.7/kaolin/csrc/render/spc/raytrace.cpp -> /usr/local/lib/python3.7/dist-packages/kaolin/csrc/render/spc\n",
            "copying build/lib.linux-x86_64-3.7/kaolin/csrc/render/spc/spc_render_utils.cuh -> /usr/local/lib/python3.7/dist-packages/kaolin/csrc/render/spc\n",
            "creating /usr/local/lib/python3.7/dist-packages/kaolin/cython\n",
            "creating /usr/local/lib/python3.7/dist-packages/kaolin/cython/ops\n",
            "creating /usr/local/lib/python3.7/dist-packages/kaolin/cython/ops/conversions\n",
            "copying build/lib.linux-x86_64-3.7/kaolin/cython/ops/conversions/mise.pyx -> /usr/local/lib/python3.7/dist-packages/kaolin/cython/ops/conversions\n",
            "copying build/lib.linux-x86_64-3.7/kaolin/cython/ops/conversions/mise.cpp -> /usr/local/lib/python3.7/dist-packages/kaolin/cython/ops/conversions\n",
            "creating /usr/local/lib/python3.7/dist-packages/kaolin/cython/ops/mesh\n",
            "copying build/lib.linux-x86_64-3.7/kaolin/cython/ops/mesh/triangle_hash.pyx -> /usr/local/lib/python3.7/dist-packages/kaolin/cython/ops/mesh\n",
            "copying build/lib.linux-x86_64-3.7/kaolin/cython/ops/mesh/triangle_hash.cpp -> /usr/local/lib/python3.7/dist-packages/kaolin/cython/ops/mesh\n",
            "creating /usr/local/lib/python3.7/dist-packages/kaolin/experimental\n",
            "creating /usr/local/lib/python3.7/dist-packages/kaolin/experimental/dash3d\n",
            "copying build/lib.linux-x86_64-3.7/kaolin/experimental/dash3d/Makefile -> /usr/local/lib/python3.7/dist-packages/kaolin/experimental/dash3d\n",
            "copying build/lib.linux-x86_64-3.7/kaolin/experimental/dash3d/kaolin-dash3d -> /usr/local/lib/python3.7/dist-packages/kaolin/experimental/dash3d\n",
            "copying build/lib.linux-x86_64-3.7/kaolin/experimental/dash3d/util.py -> /usr/local/lib/python3.7/dist-packages/kaolin/experimental/dash3d\n",
            "copying build/lib.linux-x86_64-3.7/kaolin/experimental/dash3d/README.md -> /usr/local/lib/python3.7/dist-packages/kaolin/experimental/dash3d\n",
            "copying build/lib.linux-x86_64-3.7/kaolin/experimental/dash3d/run.py -> /usr/local/lib/python3.7/dist-packages/kaolin/experimental/dash3d\n",
            "copying build/lib.linux-x86_64-3.7/kaolin/experimental/dash3d/__init__.py -> /usr/local/lib/python3.7/dist-packages/kaolin/experimental/dash3d\n",
            "creating /usr/local/lib/python3.7/dist-packages/kaolin/experimental/dash3d/src\n",
            "copying build/lib.linux-x86_64-3.7/kaolin/experimental/dash3d/src/copyright.js -> /usr/local/lib/python3.7/dist-packages/kaolin/experimental/dash3d/src\n",
            "copying build/lib.linux-x86_64-3.7/kaolin/experimental/dash3d/src/util.js -> /usr/local/lib/python3.7/dist-packages/kaolin/experimental/dash3d/src\n",
            "copying build/lib.linux-x86_64-3.7/kaolin/experimental/dash3d/src/geometry.js -> /usr/local/lib/python3.7/dist-packages/kaolin/experimental/dash3d/src\n",
            "copying build/lib.linux-x86_64-3.7/kaolin/experimental/dash3d/src/render.js -> /usr/local/lib/python3.7/dist-packages/kaolin/experimental/dash3d/src\n",
            "copying build/lib.linux-x86_64-3.7/kaolin/experimental/dash3d/src/controller.js -> /usr/local/lib/python3.7/dist-packages/kaolin/experimental/dash3d/src\n",
            "copying build/lib.linux-x86_64-3.7/kaolin/experimental/dash3d/src/style.css -> /usr/local/lib/python3.7/dist-packages/kaolin/experimental/dash3d/src\n",
            "copying build/lib.linux-x86_64-3.7/kaolin/experimental/dash3d/src/test_util.js -> /usr/local/lib/python3.7/dist-packages/kaolin/experimental/dash3d/src\n",
            "creating /usr/local/lib/python3.7/dist-packages/kaolin/experimental/dash3d/static\n",
            "copying build/lib.linux-x86_64-3.7/kaolin/experimental/dash3d/static/style.css -> /usr/local/lib/python3.7/dist-packages/kaolin/experimental/dash3d/static\n",
            "copying build/lib.linux-x86_64-3.7/kaolin/experimental/dash3d/static/favicon.ico -> /usr/local/lib/python3.7/dist-packages/kaolin/experimental/dash3d/static\n",
            "copying build/lib.linux-x86_64-3.7/kaolin/experimental/dash3d/static/core-min.js -> /usr/local/lib/python3.7/dist-packages/kaolin/experimental/dash3d/static\n",
            "copying build/lib.linux-x86_64-3.7/kaolin/experimental/dash3d/static/thirdparty.css -> /usr/local/lib/python3.7/dist-packages/kaolin/experimental/dash3d/static\n",
            "copying build/lib.linux-x86_64-3.7/kaolin/experimental/dash3d/static/thirdparty.js -> /usr/local/lib/python3.7/dist-packages/kaolin/experimental/dash3d/static\n",
            "copying build/lib.linux-x86_64-3.7/kaolin/experimental/dash3d/static/green_plastic.frag -> /usr/local/lib/python3.7/dist-packages/kaolin/experimental/dash3d/static\n",
            "creating /usr/local/lib/python3.7/dist-packages/kaolin/experimental/dash3d/templates\n",
            "copying build/lib.linux-x86_64-3.7/kaolin/experimental/dash3d/templates/render_row.html -> /usr/local/lib/python3.7/dist-packages/kaolin/experimental/dash3d/templates\n",
            "copying build/lib.linux-x86_64-3.7/kaolin/experimental/dash3d/templates/home.html -> /usr/local/lib/python3.7/dist-packages/kaolin/experimental/dash3d/templates\n",
            "copying build/lib.linux-x86_64-3.7/kaolin/experimental/dash3d/templates/view_settings.html -> /usr/local/lib/python3.7/dist-packages/kaolin/experimental/dash3d/templates\n",
            "copying build/lib.linux-x86_64-3.7/kaolin/experimental/dash3d/templates/render_card.html -> /usr/local/lib/python3.7/dist-packages/kaolin/experimental/dash3d/templates\n",
            "copying build/lib.linux-x86_64-3.7/kaolin/version.py -> /usr/local/lib/python3.7/dist-packages/kaolin\n",
            "byte-compiling /usr/local/lib/python3.7/dist-packages/kaolin/__init__.py to __init__.cpython-37.pyc\n",
            "byte-compiling /usr/local/lib/python3.7/dist-packages/kaolin/ops/reduction.py to reduction.cpython-37.pyc\n",
            "byte-compiling /usr/local/lib/python3.7/dist-packages/kaolin/ops/voxelgrid.py to voxelgrid.cpython-37.pyc\n",
            "byte-compiling /usr/local/lib/python3.7/dist-packages/kaolin/ops/gcn.py to gcn.cpython-37.pyc\n",
            "byte-compiling /usr/local/lib/python3.7/dist-packages/kaolin/ops/__init__.py to __init__.cpython-37.pyc\n",
            "byte-compiling /usr/local/lib/python3.7/dist-packages/kaolin/ops/coords.py to coords.cpython-37.pyc\n",
            "byte-compiling /usr/local/lib/python3.7/dist-packages/kaolin/ops/batch.py to batch.cpython-37.pyc\n",
            "byte-compiling /usr/local/lib/python3.7/dist-packages/kaolin/ops/random.py to random.cpython-37.pyc\n",
            "byte-compiling /usr/local/lib/python3.7/dist-packages/kaolin/ops/mesh/__init__.py to __init__.cpython-37.pyc\n",
            "byte-compiling /usr/local/lib/python3.7/dist-packages/kaolin/ops/mesh/mesh.py to mesh.cpython-37.pyc\n",
            "byte-compiling /usr/local/lib/python3.7/dist-packages/kaolin/ops/mesh/check_sign.py to check_sign.cpython-37.pyc\n",
            "byte-compiling /usr/local/lib/python3.7/dist-packages/kaolin/ops/mesh/tetmesh.py to tetmesh.cpython-37.pyc\n",
            "byte-compiling /usr/local/lib/python3.7/dist-packages/kaolin/ops/mesh/trianglemesh.py to trianglemesh.cpython-37.pyc\n",
            "byte-compiling /usr/local/lib/python3.7/dist-packages/kaolin/ops/conversions/trianglemesh.py to trianglemesh.cpython-37.pyc\n",
            "byte-compiling /usr/local/lib/python3.7/dist-packages/kaolin/ops/conversions/tetmesh.py to tetmesh.cpython-37.pyc\n",
            "byte-compiling /usr/local/lib/python3.7/dist-packages/kaolin/ops/conversions/voxelgrid.py to voxelgrid.cpython-37.pyc\n",
            "byte-compiling /usr/local/lib/python3.7/dist-packages/kaolin/ops/conversions/pointcloud.py to pointcloud.cpython-37.pyc\n",
            "byte-compiling /usr/local/lib/python3.7/dist-packages/kaolin/ops/conversions/sdf.py to sdf.cpython-37.pyc\n",
            "byte-compiling /usr/local/lib/python3.7/dist-packages/kaolin/ops/conversions/__init__.py to __init__.cpython-37.pyc\n",
            "byte-compiling /usr/local/lib/python3.7/dist-packages/kaolin/ops/spc/spc.py to spc.cpython-37.pyc\n",
            "byte-compiling /usr/local/lib/python3.7/dist-packages/kaolin/ops/spc/points.py to points.cpython-37.pyc\n",
            "byte-compiling /usr/local/lib/python3.7/dist-packages/kaolin/ops/spc/uint8.py to uint8.cpython-37.pyc\n",
            "byte-compiling /usr/local/lib/python3.7/dist-packages/kaolin/ops/spc/__init__.py to __init__.cpython-37.pyc\n",
            "byte-compiling /usr/local/lib/python3.7/dist-packages/kaolin/ops/spc/convolution.py to convolution.cpython-37.pyc\n",
            "byte-compiling /usr/local/lib/python3.7/dist-packages/kaolin/io/__init__.py to __init__.cpython-37.pyc\n",
            "byte-compiling /usr/local/lib/python3.7/dist-packages/kaolin/io/dataset.py to dataset.cpython-37.pyc\n",
            "byte-compiling /usr/local/lib/python3.7/dist-packages/kaolin/io/render.py to render.cpython-37.pyc\n",
            "byte-compiling /usr/local/lib/python3.7/dist-packages/kaolin/io/obj.py to obj.cpython-37.pyc\n",
            "byte-compiling /usr/local/lib/python3.7/dist-packages/kaolin/io/modelnet.py to modelnet.cpython-37.pyc\n",
            "byte-compiling /usr/local/lib/python3.7/dist-packages/kaolin/io/off.py to off.cpython-37.pyc\n",
            "byte-compiling /usr/local/lib/python3.7/dist-packages/kaolin/io/materials.py to materials.cpython-37.pyc\n",
            "byte-compiling /usr/local/lib/python3.7/dist-packages/kaolin/io/usd.py to usd.cpython-37.pyc\n",
            "byte-compiling /usr/local/lib/python3.7/dist-packages/kaolin/io/utils.py to utils.cpython-37.pyc\n",
            "byte-compiling /usr/local/lib/python3.7/dist-packages/kaolin/io/shrec.py to shrec.cpython-37.pyc\n",
            "byte-compiling /usr/local/lib/python3.7/dist-packages/kaolin/io/shapenet.py to shapenet.cpython-37.pyc\n",
            "byte-compiling /usr/local/lib/python3.7/dist-packages/kaolin/metrics/tetmesh.py to tetmesh.cpython-37.pyc\n",
            "byte-compiling /usr/local/lib/python3.7/dist-packages/kaolin/metrics/render.py to render.cpython-37.pyc\n",
            "byte-compiling /usr/local/lib/python3.7/dist-packages/kaolin/metrics/voxelgrid.py to voxelgrid.cpython-37.pyc\n",
            "byte-compiling /usr/local/lib/python3.7/dist-packages/kaolin/metrics/__init__.py to __init__.cpython-37.pyc\n",
            "byte-compiling /usr/local/lib/python3.7/dist-packages/kaolin/metrics/trianglemesh.py to trianglemesh.cpython-37.pyc\n",
            "byte-compiling /usr/local/lib/python3.7/dist-packages/kaolin/metrics/pointcloud.py to pointcloud.cpython-37.pyc\n",
            "byte-compiling /usr/local/lib/python3.7/dist-packages/kaolin/render/__init__.py to __init__.cpython-37.pyc\n",
            "byte-compiling /usr/local/lib/python3.7/dist-packages/kaolin/render/camera/intrinsics_pinhole.py to intrinsics_pinhole.cpython-37.pyc\n",
            "byte-compiling /usr/local/lib/python3.7/dist-packages/kaolin/render/camera/intrinsics_ortho.py to intrinsics_ortho.cpython-37.pyc\n",
            "byte-compiling /usr/local/lib/python3.7/dist-packages/kaolin/render/camera/camera.py to camera.cpython-37.pyc\n",
            "byte-compiling /usr/local/lib/python3.7/dist-packages/kaolin/render/camera/legacy.py to legacy.cpython-37.pyc\n",
            "byte-compiling /usr/local/lib/python3.7/dist-packages/kaolin/render/camera/__init__.py to __init__.cpython-37.pyc\n",
            "byte-compiling /usr/local/lib/python3.7/dist-packages/kaolin/render/camera/extrinsics.py to extrinsics.cpython-37.pyc\n",
            "byte-compiling /usr/local/lib/python3.7/dist-packages/kaolin/render/camera/intrinsics.py to intrinsics.cpython-37.pyc\n",
            "byte-compiling /usr/local/lib/python3.7/dist-packages/kaolin/render/camera/coordinates.py to coordinates.cpython-37.pyc\n",
            "byte-compiling /usr/local/lib/python3.7/dist-packages/kaolin/render/camera/extrinsics_backends.py to extrinsics_backends.cpython-37.pyc\n",
            "byte-compiling /usr/local/lib/python3.7/dist-packages/kaolin/render/mesh/dibr.py to dibr.cpython-37.pyc\n",
            "byte-compiling /usr/local/lib/python3.7/dist-packages/kaolin/render/mesh/deftet.py to deftet.cpython-37.pyc\n",
            "byte-compiling /usr/local/lib/python3.7/dist-packages/kaolin/render/mesh/utils.py to utils.cpython-37.pyc\n",
            "byte-compiling /usr/local/lib/python3.7/dist-packages/kaolin/render/mesh/__init__.py to __init__.cpython-37.pyc\n",
            "byte-compiling /usr/local/lib/python3.7/dist-packages/kaolin/render/mesh/rasterization.py to rasterization.cpython-37.pyc\n",
            "byte-compiling /usr/local/lib/python3.7/dist-packages/kaolin/render/spc/__init__.py to __init__.cpython-37.pyc\n",
            "byte-compiling /usr/local/lib/python3.7/dist-packages/kaolin/render/spc/raytrace.py to raytrace.cpython-37.pyc\n",
            "byte-compiling /usr/local/lib/python3.7/dist-packages/kaolin/rep/spc.py to spc.cpython-37.pyc\n",
            "byte-compiling /usr/local/lib/python3.7/dist-packages/kaolin/rep/__init__.py to __init__.cpython-37.pyc\n",
            "byte-compiling /usr/local/lib/python3.7/dist-packages/kaolin/utils/testing.py to testing.cpython-37.pyc\n",
            "byte-compiling /usr/local/lib/python3.7/dist-packages/kaolin/utils/__init__.py to __init__.cpython-37.pyc\n",
            "byte-compiling /usr/local/lib/python3.7/dist-packages/kaolin/visualize/__init__.py to __init__.cpython-37.pyc\n",
            "byte-compiling /usr/local/lib/python3.7/dist-packages/kaolin/visualize/timelapse.py to timelapse.cpython-37.pyc\n",
            "byte-compiling /usr/local/lib/python3.7/dist-packages/kaolin/experimental/dash3d/util.py to util.cpython-37.pyc\n",
            "byte-compiling /usr/local/lib/python3.7/dist-packages/kaolin/experimental/dash3d/run.py to run.cpython-37.pyc\n",
            "byte-compiling /usr/local/lib/python3.7/dist-packages/kaolin/experimental/dash3d/__init__.py to __init__.cpython-37.pyc\n",
            "byte-compiling /usr/local/lib/python3.7/dist-packages/kaolin/version.py to version.cpython-37.pyc\n",
            "running install_scripts\n",
            "running build_scripts\n",
            "changing mode of build/scripts-3.7/kaolin-dash3d from 600 to 755\n",
            "copying build/scripts-3.7/kaolin-dash3d -> /usr/local/bin\n",
            "changing mode of /usr/local/bin/kaolin-dash3d to 755\n",
            "running build\n"
          ]
        }
      ]
    },
    {
      "cell_type": "code",
      "source": [],
      "metadata": {
        "id": "VfOFEhEaeGhO"
      },
      "execution_count": 4,
      "outputs": []
    },
    {
      "cell_type": "code",
      "source": [
        "# installing PyTorch3D (for rendering)\n",
        "import os\n",
        "import sys\n",
        "import torch\n",
        "need_pytorch3d=False\n",
        "try:\n",
        "    import pytorch3d\n",
        "except ModuleNotFoundError:\n",
        "    need_pytorch3d=True\n",
        "if need_pytorch3d:\n",
        "    if torch.__version__.startswith(\"1.12.\") and sys.platform.startswith(\"linux\"):\n",
        "        # We try to install PyTorch3D via a released wheel.\n",
        "        pyt_version_str=torch.__version__.split(\"+\")[0].replace(\".\", \"\")\n",
        "        version_str=\"\".join([\n",
        "            f\"py3{sys.version_info.minor}_cu\",\n",
        "            torch.version.cuda.replace(\".\",\"\"),\n",
        "            f\"_pyt{pyt_version_str}\"\n",
        "        ])\n",
        "        !pip install fvcore iopath\n",
        "        !pip install --no-index --no-cache-dir pytorch3d -f https://dl.fbaipublicfiles.com/pytorch3d/packaging/wheels/{version_str}/download.html\n",
        "    else:\n",
        "        # We try to install PyTorch3D from source.\n",
        "        !curl -LO https://github.com/NVIDIA/cub/archive/1.10.0.tar.gz\n",
        "        !tar xzf 1.10.0.tar.gz\n",
        "        os.environ[\"CUB_HOME\"] = os.getcwd() + \"/cub-1.10.0\"\n",
        "        !pip install 'git+https://github.com/facebookresearch/pytorch3d.git@stable'"
      ],
      "metadata": {
        "id": "8kEdknk9OlYc",
        "colab": {
          "base_uri": "https://localhost:8080/"
        },
        "outputId": "d1741417-67db-43a9-f2bc-bfd942a85e02"
      },
      "execution_count": 5,
      "outputs": [
        {
          "output_type": "stream",
          "name": "stdout",
          "text": [
            "Looking in indexes: https://pypi.org/simple, https://us-python.pkg.dev/colab-wheels/public/simple/\n",
            "Collecting fvcore\n",
            "  Downloading fvcore-0.1.5.post20221122.tar.gz (50 kB)\n",
            "\u001b[K     |████████████████████████████████| 50 kB 6.6 MB/s \n",
            "\u001b[?25hCollecting iopath\n",
            "  Downloading iopath-0.1.10.tar.gz (42 kB)\n",
            "\u001b[K     |████████████████████████████████| 42 kB 1.2 MB/s \n",
            "\u001b[?25hRequirement already satisfied: numpy in /usr/local/lib/python3.7/dist-packages (from fvcore) (1.21.6)\n",
            "Collecting yacs>=0.1.6\n",
            "  Downloading yacs-0.1.8-py3-none-any.whl (14 kB)\n",
            "Requirement already satisfied: pyyaml>=5.1 in /usr/local/lib/python3.7/dist-packages (from fvcore) (6.0)\n",
            "Requirement already satisfied: tqdm in /usr/local/lib/python3.7/dist-packages (from fvcore) (4.64.1)\n",
            "Requirement already satisfied: termcolor>=1.1 in /usr/local/lib/python3.7/dist-packages (from fvcore) (2.1.0)\n",
            "Requirement already satisfied: Pillow in /usr/local/lib/python3.7/dist-packages (from fvcore) (7.1.2)\n",
            "Requirement already satisfied: tabulate in /usr/local/lib/python3.7/dist-packages (from fvcore) (0.8.10)\n",
            "Requirement already satisfied: typing_extensions in /usr/local/lib/python3.7/dist-packages (from iopath) (4.1.1)\n",
            "Collecting portalocker\n",
            "  Downloading portalocker-2.6.0-py2.py3-none-any.whl (15 kB)\n",
            "Building wheels for collected packages: fvcore, iopath\n",
            "  Building wheel for fvcore (setup.py) ... \u001b[?25l\u001b[?25hdone\n",
            "  Created wheel for fvcore: filename=fvcore-0.1.5.post20221122-py3-none-any.whl size=61484 sha256=616327a15823a0c0cf25e422ca9dcc77626f78f1ff24d5438035d07a84916e1b\n",
            "  Stored in directory: /root/.cache/pip/wheels/2d/e4/d7/be0b4010933f5fffea6385e9b319eac9d6e56c82ee4a0164e5\n",
            "  Building wheel for iopath (setup.py) ... \u001b[?25l\u001b[?25hdone\n",
            "  Created wheel for iopath: filename=iopath-0.1.10-py3-none-any.whl size=31547 sha256=18a4ff8795cfb61cad91f086d5a736467844cbde35c06bc833c606be3ef46789\n",
            "  Stored in directory: /root/.cache/pip/wheels/aa/cc/ed/ca4e88beef656b01c84b9185196513ef2faf74a5a379b043a7\n",
            "Successfully built fvcore iopath\n",
            "Installing collected packages: portalocker, yacs, iopath, fvcore\n",
            "Successfully installed fvcore-0.1.5.post20221122 iopath-0.1.10 portalocker-2.6.0 yacs-0.1.8\n",
            "Looking in links: https://dl.fbaipublicfiles.com/pytorch3d/packaging/wheels/py37_cu113_pyt1121/download.html\n",
            "Collecting pytorch3d\n",
            "  Downloading https://dl.fbaipublicfiles.com/pytorch3d/packaging/wheels/py37_cu113_pyt1121/pytorch3d-0.7.1-cp37-cp37m-linux_x86_64.whl (47.2 MB)\n",
            "\u001b[K     |████████████████████████████████| 47.2 MB 1.2 MB/s \n",
            "\u001b[?25hRequirement already satisfied: iopath in /usr/local/lib/python3.7/dist-packages (from pytorch3d) (0.1.10)\n",
            "Requirement already satisfied: fvcore in /usr/local/lib/python3.7/dist-packages (from pytorch3d) (0.1.5.post20221122)\n",
            "Requirement already satisfied: numpy in /usr/local/lib/python3.7/dist-packages (from fvcore->pytorch3d) (1.21.6)\n",
            "Requirement already satisfied: tqdm in /usr/local/lib/python3.7/dist-packages (from fvcore->pytorch3d) (4.64.1)\n",
            "Requirement already satisfied: termcolor>=1.1 in /usr/local/lib/python3.7/dist-packages (from fvcore->pytorch3d) (2.1.0)\n",
            "Requirement already satisfied: Pillow in /usr/local/lib/python3.7/dist-packages (from fvcore->pytorch3d) (7.1.2)\n",
            "Requirement already satisfied: tabulate in /usr/local/lib/python3.7/dist-packages (from fvcore->pytorch3d) (0.8.10)\n",
            "Requirement already satisfied: yacs>=0.1.6 in /usr/local/lib/python3.7/dist-packages (from fvcore->pytorch3d) (0.1.8)\n",
            "Requirement already satisfied: pyyaml>=5.1 in /usr/local/lib/python3.7/dist-packages (from fvcore->pytorch3d) (6.0)\n",
            "Requirement already satisfied: typing-extensions in /usr/local/lib/python3.7/dist-packages (from iopath->pytorch3d) (4.1.1)\n",
            "Requirement already satisfied: portalocker in /usr/local/lib/python3.7/dist-packages (from iopath->pytorch3d) (2.6.0)\n",
            "Installing collected packages: pytorch3d\n",
            "Successfully installed pytorch3d-0.7.1\n"
          ]
        }
      ]
    },
    {
      "cell_type": "code",
      "source": [],
      "metadata": {
        "id": "-pFs5-ubDSDg"
      },
      "execution_count": 5,
      "outputs": []
    },
    {
      "cell_type": "markdown",
      "source": [
        "# Import packages"
      ],
      "metadata": {
        "id": "U-ItNJXfPQPA"
      }
    },
    {
      "cell_type": "code",
      "source": [
        "import numpy as np\n",
        "import torch\n",
        "import kaolin\n",
        "\n",
        "from pytorch3d.datasets import (\n",
        "    R2N2,\n",
        "    ShapeNetCore,\n",
        "    collate_batched_meshes,\n",
        "    render_cubified_voxels,\n",
        ")\n",
        "from pytorch3d.renderer import (\n",
        "    FoVPerspectiveCameras,\n",
        "    PointLights,\n",
        "    RasterizationSettings,\n",
        "    TexturesVertex,\n",
        "    look_at_view_transform,\n",
        ")\n",
        "\n",
        "from kaolin.ops.conversions import (\n",
        "    trianglemeshes_to_voxelgrids,\n",
        "    marching_tetrahedra,\n",
        "    voxelgrids_to_cubic_meshes,\n",
        "    voxelgrids_to_trianglemeshes\n",
        ")\n",
        "\n",
        "from kaolin.io.shapenet import (\n",
        "    ShapeNetV2\n",
        ")\n",
        "\n",
        "from pytorch3d.structures import Meshes\n",
        "from torch.utils.data import DataLoader\n",
        "\n",
        "!wget https://raw.githubusercontent.com/facebookresearch/pytorch3d/main/docs/tutorials/utils/plot_image_grid.py\n",
        "from plot_image_grid import image_grid # rendering function\n",
        "\n",
        "# add path for demo utils functions \n",
        "sys.path.append(os.path.abspath(''))"
      ],
      "metadata": {
        "id": "xI6uNv5JPP0i",
        "colab": {
          "base_uri": "https://localhost:8080/"
        },
        "outputId": "9d08883c-7bd0-4a48-fc67-3424a830ed0c"
      },
      "execution_count": 6,
      "outputs": [
        {
          "output_type": "stream",
          "name": "stdout",
          "text": [
            "--2022-11-30 18:46:34--  https://raw.githubusercontent.com/facebookresearch/pytorch3d/main/docs/tutorials/utils/plot_image_grid.py\n",
            "Resolving raw.githubusercontent.com (raw.githubusercontent.com)... 185.199.108.133, 185.199.109.133, 185.199.110.133, ...\n",
            "Connecting to raw.githubusercontent.com (raw.githubusercontent.com)|185.199.108.133|:443... connected.\n",
            "HTTP request sent, awaiting response... 200 OK\n",
            "Length: 1608 (1.6K) [text/plain]\n",
            "Saving to: ‘plot_image_grid.py.12’\n",
            "\n",
            "\rplot_image_grid.py.   0%[                    ]       0  --.-KB/s               \rplot_image_grid.py. 100%[===================>]   1.57K  --.-KB/s    in 0.001s  \n",
            "\n",
            "2022-11-30 18:46:34 (2.30 MB/s) - ‘plot_image_grid.py.12’ saved [1608/1608]\n",
            "\n"
          ]
        }
      ]
    },
    {
      "cell_type": "markdown",
      "source": [
        "# Import Dataset: Subset of ShapeNetV2"
      ],
      "metadata": {
        "id": "pKhngPBlPbTs"
      }
    },
    {
      "cell_type": "code",
      "source": [
        "from google.colab import drive\n",
        "drive.mount('/content/drive')"
      ],
      "metadata": {
        "id": "yMSLuRoDPfkp",
        "colab": {
          "base_uri": "https://localhost:8080/"
        },
        "outputId": "0d7f21bf-212b-4d5d-c4b7-443944e8fe27"
      },
      "execution_count": 7,
      "outputs": [
        {
          "output_type": "stream",
          "name": "stdout",
          "text": [
            "Drive already mounted at /content/drive; to attempt to forcibly remount, call drive.mount(\"/content/drive\", force_remount=True).\n"
          ]
        }
      ]
    },
    {
      "cell_type": "code",
      "source": [
        "if torch.cuda.is_available():\n",
        "    device = torch.device(\"cuda:0\")\n",
        "    torch.cuda.set_device(device)\n",
        "else:\n",
        "    device = torch.device(\"cpu\")\n",
        "device"
      ],
      "metadata": {
        "id": "aTCgE2WCPiAr",
        "colab": {
          "base_uri": "https://localhost:8080/"
        },
        "outputId": "c2a05c87-7eb3-4c57-9e05-b4a73d7a8dd9"
      },
      "execution_count": 8,
      "outputs": [
        {
          "output_type": "execute_result",
          "data": {
            "text/plain": [
              "device(type='cuda', index=0)"
            ]
          },
          "metadata": {},
          "execution_count": 8
        }
      ]
    },
    {
      "cell_type": "code",
      "source": [
        "from pathlib import Path"
      ],
      "metadata": {
        "id": "zakMDXAEltL1"
      },
      "execution_count": 9,
      "outputs": []
    },
    {
      "cell_type": "code",
      "source": [
        "SHAPENET_PATH = \"/content/drive/MyDrive/CV_DMTet/Core\"\n",
        "# SHAPENET_PATH = \"/content/drive/MyDrive/FALL 2022/Computer Vision/Project/Core\"\n",
        "# SHAPENET_ZIP = Path(SHAPENET_PATH) / \"ShapeNetCore.v2.zip\"\n",
        "# !curl \"https://drive.google.com/drive/folders/1WKoRDtHdqubpHMam4iVOMe8D536KHBOY?usp=share_link\" -o SHAPENET_PATH\n",
        "SYNSETS_IDS = ['02747177', '02801938', '02808440', '02818832', '02828884', '02871439', '02876657', '02880940', '02924116', '02933112']\n",
        "shapenet_train = ShapeNetV2(SHAPENET_PATH, categories=SYNSETS_IDS, output_dict=True)\n",
        "shapenet_test = ShapeNetV2(SHAPENET_PATH, categories=SYNSETS_IDS, output_dict=True, train=False)"
      ],
      "metadata": {
        "id": "HiBJWTztPmL4"
      },
      "execution_count": 10,
      "outputs": []
    },
    {
      "cell_type": "markdown",
      "source": [
        "# Visualization of Train model & add 3D checkpoint"
      ],
      "metadata": {
        "id": "_vDh8sagQT74"
      }
    },
    {
      "cell_type": "code",
      "source": [
        "\"\"\"\n",
        "shapenet_train contains dict that stores model properties\n",
        "\"\"\"\n",
        "\n",
        "sample_model = shapenet_train[8] # change the index here for different models\n",
        "sample_verts = sample_model['mesh'][0]\n",
        "sample_faces = sample_model['mesh'][1]\n",
        "sample_feats = sample_model['mesh'][4]\n",
        "sample_id = sample_model['name'].split('/')[1]\n",
        "\n",
        "print(sample_model)"
      ],
      "metadata": {
        "id": "IHwZRC7hQTnF",
        "colab": {
          "base_uri": "https://localhost:8080/"
        },
        "outputId": "a427a01c-8e54-452b-ae8c-decaf87e4115"
      },
      "execution_count": 11,
      "outputs": [
        {
          "output_type": "stream",
          "name": "stdout",
          "text": [
            "{'mesh': return_type(vertices=tensor([[ 0.0734, -0.2761, -0.1726],\n",
            "        [ 0.0601,  0.1218, -0.1775],\n",
            "        [ 0.0601, -0.2761, -0.1775],\n",
            "        ...,\n",
            "        [-0.2201, -0.3234, -0.0937],\n",
            "        [-0.2372, -0.3234, -0.0333],\n",
            "        [-0.1880, -0.3234, -0.1476]]), faces=tensor([[   0,    1,    2],\n",
            "        [   1,    0,    3],\n",
            "        [   2,    1,    0],\n",
            "        ...,\n",
            "        [6817, 6814, 6815],\n",
            "        [6814, 6817, 6816],\n",
            "        [6818, 6816, 6817]]), uvs=tensor([[-1.0073,  2.6101],\n",
            "        [-1.0104,  0.1351],\n",
            "        [-1.0073,  0.1351],\n",
            "        ...,\n",
            "        [-2.4010,  2.6101],\n",
            "        [-2.4010,  0.1351],\n",
            "        [-2.3010,  2.6101]]), face_uvs_idx=tensor([[-1, -1, -1],\n",
            "        [-1, -1, -1],\n",
            "        [-1, -1, -1],\n",
            "        ...,\n",
            "        [-1, -1, -1],\n",
            "        [-1, -1, -1],\n",
            "        [-1, -1, -1]]), materials=[{'Kd': tensor([0.3373, 0.3373, 0.3373]), 'Ka': tensor([0., 0., 0.]), 'Ks': tensor([0.4000, 0.4000, 0.4000])}, {'Kd': tensor([0., 0., 0.]), 'Ka': tensor([0., 0., 0.]), 'Ks': tensor([0.4000, 0.4000, 0.4000])}, {'Kd': tensor([0.2275, 0.2275, 0.2275]), 'Ka': tensor([0., 0., 0.]), 'Ks': tensor([0.4000, 0.4000, 0.4000])}, {'Kd': tensor([0.1725, 0.1765, 0.1686]), 'Ka': tensor([0., 0., 0.]), 'Ks': tensor([0.4000, 0.4000, 0.4000])}, {'Kd': tensor([1., 1., 1.]), 'Ka': tensor([0., 0., 0.]), 'Ks': tensor([0.4000, 0.4000, 0.4000])}, {'Kd': tensor([1., 1., 1.]), 'Ka': tensor([0., 0., 0.]), 'Ks': tensor([0.4000, 0.4000, 0.4000])}, {'Kd': tensor([0.8588, 0.1255, 0.1882]), 'Ka': tensor([0., 0., 0.]), 'Ks': tensor([0.4000, 0.4000, 0.4000])}, {'Kd': tensor([0.1137, 0.4510, 0.7294]), 'Ka': tensor([0., 0., 0.]), 'Ks': tensor([0.4000, 0.4000, 0.4000])}, {'Kd': tensor([0.1725, 0.3843, 0.2588]), 'Ka': tensor([0., 0., 0.]), 'Ks': tensor([0.4000, 0.4000, 0.4000])}, {'Kd': tensor([1., 1., 1.]), 'Ka': tensor([0., 0., 0.]), 'Ks': tensor([0.4000, 0.4000, 0.4000])}, {'Kd': tensor([0.1843, 0.2275, 0.1882]), 'Ka': tensor([0., 0., 0.]), 'Ks': tensor([0.4000, 0.4000, 0.4000])}, {'Kd': tensor([0.6078, 0.6196, 0.6118]), 'Ka': tensor([0., 0., 0.]), 'Ks': tensor([0.4000, 0.4000, 0.4000])}, {'Kd': tensor([0.1608, 0.6078, 0.5294]), 'Ka': tensor([0., 0., 0.]), 'Ks': tensor([0.4000, 0.4000, 0.4000])}, {'Kd': tensor([0.7176, 0.7451, 0.7412]), 'Ka': tensor([0., 0., 0.]), 'Ks': tensor([0.4000, 0.4000, 0.4000])}, {'Kd': tensor([0.4314, 0.3608, 0.2980]), 'Ka': tensor([0., 0., 0.]), 'Ks': tensor([0.4000, 0.4000, 0.4000])}, {'Kd': tensor([0.5804, 0.1333, 0.2078]), 'Ka': tensor([0., 0., 0.]), 'Ks': tensor([0.4000, 0.4000, 0.4000])}], materials_order=tensor([[    0,     0],\n",
            "        [    1,    24],\n",
            "        [    0,    24],\n",
            "        [    1,    48],\n",
            "        [    0,    48],\n",
            "        [    1,    72],\n",
            "        [    0,    72],\n",
            "        [    1,    96],\n",
            "        [    0,    96],\n",
            "        [    1,   120],\n",
            "        [    0,   120],\n",
            "        [    1,   144],\n",
            "        [    0,   144],\n",
            "        [    1,   168],\n",
            "        [    0,   168],\n",
            "        [    1,   192],\n",
            "        [    0,   192],\n",
            "        [    1,   216],\n",
            "        [    0,   216],\n",
            "        [    1,   240],\n",
            "        [    0,   240],\n",
            "        [    1,   264],\n",
            "        [    0,   264],\n",
            "        [    1,   288],\n",
            "        [    0,   288],\n",
            "        [    1,   312],\n",
            "        [    0,   312],\n",
            "        [    1,   336],\n",
            "        [    0,   336],\n",
            "        [    1,   360],\n",
            "        [    0,   360],\n",
            "        [    1,   384],\n",
            "        [    0,   384],\n",
            "        [    1,   408],\n",
            "        [    0,   408],\n",
            "        [    1,   432],\n",
            "        [    0,   432],\n",
            "        [    1,   456],\n",
            "        [    0,   456],\n",
            "        [    1,   480],\n",
            "        [    0,   480],\n",
            "        [    1,   504],\n",
            "        [    0,   504],\n",
            "        [    1,   528],\n",
            "        [    0,   528],\n",
            "        [    1,   552],\n",
            "        [    0,   552],\n",
            "        [    1,   576],\n",
            "        [    0,   576],\n",
            "        [    1,   600],\n",
            "        [    0,   600],\n",
            "        [    1,   624],\n",
            "        [    0,   624],\n",
            "        [    1,   648],\n",
            "        [    0,   648],\n",
            "        [    1,   672],\n",
            "        [    0,   672],\n",
            "        [    1,   696],\n",
            "        [    0,   696],\n",
            "        [    1,   720],\n",
            "        [    0,   720],\n",
            "        [    1,   744],\n",
            "        [    0,   744],\n",
            "        [    1,   768],\n",
            "        [    0,   768],\n",
            "        [    1,   792],\n",
            "        [    0,   792],\n",
            "        [    1,   816],\n",
            "        [    0,   816],\n",
            "        [    1,   840],\n",
            "        [    0,   840],\n",
            "        [    1,   864],\n",
            "        [    0,   864],\n",
            "        [    1,  3020],\n",
            "        [    1,  3020],\n",
            "        [    1,  3020],\n",
            "        [    1,  3020],\n",
            "        [    1,  3020],\n",
            "        [    1,  3020],\n",
            "        [    1,  3020],\n",
            "        [    1,  3020],\n",
            "        [    1,  3020],\n",
            "        [    1,  3020],\n",
            "        [    1,  3020],\n",
            "        [    1,  3020],\n",
            "        [    1,  3020],\n",
            "        [    1,  3020],\n",
            "        [    1,  3020],\n",
            "        [    1,  3020],\n",
            "        [    1,  3020],\n",
            "        [    1,  3020],\n",
            "        [    1,  3020],\n",
            "        [    1,  3020],\n",
            "        [    2,  3020],\n",
            "        [    1,  8620],\n",
            "        [    1,  8620],\n",
            "        [    1,  8620],\n",
            "        [    1,  8620],\n",
            "        [    1,  8620],\n",
            "        [    2,  8620],\n",
            "        [    3, 11022],\n",
            "        [    3, 13424],\n",
            "        [    2, 13586],\n",
            "        [    4, 13608],\n",
            "        [    3, 13812],\n",
            "        [    2, 14016],\n",
            "        [    3, 15168],\n",
            "        [    5, 16320],\n",
            "        [    3, 16322],\n",
            "        [    3, 16324],\n",
            "        [    2, 16660],\n",
            "        [    2, 16708],\n",
            "        [    3, 16722],\n",
            "        [    3, 16742],\n",
            "        [    2, 16904],\n",
            "        [    2, 16926],\n",
            "        [    3, 16934],\n",
            "        [    4, 16950],\n",
            "        [    3, 17154],\n",
            "        [    4, 17358],\n",
            "        [    3, 17562],\n",
            "        [    4, 17766],\n",
            "        [    3, 17970],\n",
            "        [    4, 18174],\n",
            "        [    3, 18378],\n",
            "        [    4, 18582],\n",
            "        [    3, 18786],\n",
            "        [    4, 18990],\n",
            "        [    3, 19194],\n",
            "        [    4, 19398],\n",
            "        [    3, 19602],\n",
            "        [    4, 19806],\n",
            "        [    3, 20010],\n",
            "        [    4, 20214],\n",
            "        [    3, 20418],\n",
            "        [    3, 20622],\n",
            "        [    2, 20784],\n",
            "        [    4, 20806],\n",
            "        [    3, 21010],\n",
            "        [    4, 21214],\n",
            "        [    3, 21418],\n",
            "        [    4, 21622],\n",
            "        [    3, 21826],\n",
            "        [    4, 22030],\n",
            "        [    3, 22234],\n",
            "        [    4, 22438],\n",
            "        [    3, 22642],\n",
            "        [    4, 22846],\n",
            "        [    3, 23050],\n",
            "        [    4, 23254],\n",
            "        [    3, 23458],\n",
            "        [    4, 23662],\n",
            "        [    3, 23866],\n",
            "        [    4, 24070],\n",
            "        [    3, 24274],\n",
            "        [    4, 24478],\n",
            "        [    3, 24682],\n",
            "        [    4, 24886],\n",
            "        [    3, 25090],\n",
            "        [    4, 25294],\n",
            "        [    3, 25498],\n",
            "        [    4, 25702],\n",
            "        [    3, 25906],\n",
            "        [    4, 26110],\n",
            "        [    3, 26314],\n",
            "        [    3, 26518],\n",
            "        [    2, 26854],\n",
            "        [    3, 26902],\n",
            "        [    2, 27064],\n",
            "        [    6, 27086],\n",
            "        [    7, 27112],\n",
            "        [    8, 27114],\n",
            "        [    3, 27116],\n",
            "        [    9, 27118],\n",
            "        [   10, 27120],\n",
            "        [   11, 27122],\n",
            "        [   12, 27124],\n",
            "        [   13, 27126],\n",
            "        [   14, 27128],\n",
            "        [   15, 27130],\n",
            "        [    0, 27132],\n",
            "        [    1, 27134],\n",
            "        [    1, 27134],\n",
            "        [    1, 27134],\n",
            "        [    1, 27134],\n",
            "        [    1, 27134],\n",
            "        [    1, 27134],\n",
            "        [    1, 27134],\n",
            "        [    1, 27134],\n",
            "        [    1, 27134],\n",
            "        [    1, 27134],\n",
            "        [    1, 27134],\n",
            "        [    1, 27134],\n",
            "        [    1, 27134],\n",
            "        [    1, 27134],\n",
            "        [    1, 27134],\n",
            "        [    1, 27134],\n",
            "        [    1, 27134],\n",
            "        [    1, 27134],\n",
            "        [    1, 27134],\n",
            "        [    1, 27134],\n",
            "        [    1, 27134],\n",
            "        [    1, 27134],\n",
            "        [    1, 27134],\n",
            "        [    1, 27134],\n",
            "        [    1, 27134],\n",
            "        [    1, 27134],\n",
            "        [    1, 27134],\n",
            "        [    1, 27134],\n",
            "        [    1, 27134],\n",
            "        [    1, 27134],\n",
            "        [    1, 27134],\n",
            "        [    1, 27134],\n",
            "        [    1, 27134],\n",
            "        [    1, 27134],\n",
            "        [    1, 27134],\n",
            "        [    1, 27134],\n",
            "        [    1, 27134],\n",
            "        [    1, 27134],\n",
            "        [    1, 27134],\n",
            "        [    1, 27134],\n",
            "        [    1, 27134],\n",
            "        [    1, 27134],\n",
            "        [    1, 27134],\n",
            "        [    1, 27134],\n",
            "        [    1, 27134],\n",
            "        [    1, 27134]]), vertex_normals=None, face_normals=None), 'name': '02747177/4117be347627a845ba6cf6cbb9f4c2bb', 'path': PosixPath('/content/drive/MyDrive/CV_DMTet/Core/02747177/4117be347627a845ba6cf6cbb9f4c2bb/models/model_normalized.obj'), 'synset': '02747177', 'labels': ['ashcan', 'trash can', 'garbage can', 'wastebin', 'ash bin', 'ash-bin', 'ashbin', 'dustbin', 'trash barrel', 'trash bin']}\n"
          ]
        }
      ]
    },
    {
      "cell_type": "code",
      "source": [
        "# Voxelization\n",
        "res = 16\n",
        "voxelgrids = trianglemeshes_to_voxelgrids(sample_verts.unsqueeze(0), sample_faces, resolution=res)"
      ],
      "metadata": {
        "id": "NGhV-68EXjdb"
      },
      "execution_count": 12,
      "outputs": []
    },
    {
      "cell_type": "code",
      "source": [
        "# Can visualize model using Kaolin's 3D checkpoint\n",
        "\n",
        "log_dir = \"/content/drive/MyDrive/CV_DMTet/Logs\"\n",
        "timelapse = kaolin.visualize.Timelapse(log_dir)"
      ],
      "metadata": {
        "id": "A41WC_mBFuYZ"
      },
      "execution_count": 13,
      "outputs": []
    },
    {
      "cell_type": "code",
      "source": [
        "timelapse.add_mesh_batch(\n",
        "    category='sample',\n",
        "    faces_list=[sample_faces.cpu()],\n",
        "    vertices_list=[sample_verts.cpu()],\n",
        ")"
      ],
      "metadata": {
        "id": "n_8RpY76ZJhe"
      },
      "execution_count": 14,
      "outputs": []
    },
    {
      "cell_type": "code",
      "source": [
        "voxel_verts, voxel_faces = voxelgrids_to_cubic_meshes(voxelgrids.to(device))\n",
        "voxel_verts, voxel_faces = voxel_verts[0], voxel_faces[0]"
      ],
      "metadata": {
        "id": "7KeHhnVqJ1te"
      },
      "execution_count": 15,
      "outputs": []
    },
    {
      "cell_type": "code",
      "source": [
        "timelapse.add_mesh_batch(\n",
        "    category='sample_voxel',\n",
        "    faces_list=[voxel_faces.cpu()],\n",
        "    vertices_list=[voxel_verts.cpu()],\n",
        ")"
      ],
      "metadata": {
        "id": "eXXmO_BBHwUK"
      },
      "execution_count": 16,
      "outputs": []
    },
    {
      "cell_type": "markdown",
      "source": [
        "# Access Dash3D and checkpoints"
      ],
      "metadata": {
        "id": "dWG2SBF7Hovz"
      }
    },
    {
      "cell_type": "code",
      "source": [
        "#Use pyngrok to access localhost:80 on Colab\n",
        "\n",
        "!pip install pyngrok --quiet\n",
        "from pyngrok import ngrok\n",
        "\n",
        "# Terminate open tunnels if exist\n",
        "ngrok.kill()\n",
        "# Setting the authtoken (optional)\n",
        "# Get authtoken from https://dashboard.ngrok.com/auth\n",
        "NGROK_AUTH_TOKEN = \"2IGctyaa9n7vRBd8qq7pzd0bNKh_2pDFmKRk5Af1QDq295xZ4\"\n",
        "ngrok.set_auth_token(NGROK_AUTH_TOKEN)"
      ],
      "metadata": {
        "id": "kmW3TbmyaCFF",
        "colab": {
          "base_uri": "https://localhost:8080/"
        },
        "outputId": "64f134ef-1010-4cd7-8c40-a68722adf0f3"
      },
      "execution_count": 17,
      "outputs": [
        {
          "output_type": "stream",
          "name": "stdout",
          "text": [
            "\u001b[?25l\r\u001b[K     |▍                               | 10 kB 34.3 MB/s eta 0:00:01\r\u001b[K     |▉                               | 20 kB 40.4 MB/s eta 0:00:01\r\u001b[K     |█▎                              | 30 kB 47.2 MB/s eta 0:00:01\r\u001b[K     |█▊                              | 40 kB 36.7 MB/s eta 0:00:01\r\u001b[K     |██▏                             | 51 kB 40.6 MB/s eta 0:00:01\r\u001b[K     |██▋                             | 61 kB 45.1 MB/s eta 0:00:01\r\u001b[K     |███                             | 71 kB 30.7 MB/s eta 0:00:01\r\u001b[K     |███▍                            | 81 kB 31.7 MB/s eta 0:00:01\r\u001b[K     |███▉                            | 92 kB 33.5 MB/s eta 0:00:01\r\u001b[K     |████▎                           | 102 kB 35.3 MB/s eta 0:00:01\r\u001b[K     |████▊                           | 112 kB 35.3 MB/s eta 0:00:01\r\u001b[K     |█████▏                          | 122 kB 35.3 MB/s eta 0:00:01\r\u001b[K     |█████▋                          | 133 kB 35.3 MB/s eta 0:00:01\r\u001b[K     |██████                          | 143 kB 35.3 MB/s eta 0:00:01\r\u001b[K     |██████▌                         | 153 kB 35.3 MB/s eta 0:00:01\r\u001b[K     |██████▉                         | 163 kB 35.3 MB/s eta 0:00:01\r\u001b[K     |███████▎                        | 174 kB 35.3 MB/s eta 0:00:01\r\u001b[K     |███████▊                        | 184 kB 35.3 MB/s eta 0:00:01\r\u001b[K     |████████▏                       | 194 kB 35.3 MB/s eta 0:00:01\r\u001b[K     |████████▋                       | 204 kB 35.3 MB/s eta 0:00:01\r\u001b[K     |█████████                       | 215 kB 35.3 MB/s eta 0:00:01\r\u001b[K     |█████████▌                      | 225 kB 35.3 MB/s eta 0:00:01\r\u001b[K     |██████████                      | 235 kB 35.3 MB/s eta 0:00:01\r\u001b[K     |██████████▎                     | 245 kB 35.3 MB/s eta 0:00:01\r\u001b[K     |██████████▊                     | 256 kB 35.3 MB/s eta 0:00:01\r\u001b[K     |███████████▏                    | 266 kB 35.3 MB/s eta 0:00:01\r\u001b[K     |███████████▋                    | 276 kB 35.3 MB/s eta 0:00:01\r\u001b[K     |████████████                    | 286 kB 35.3 MB/s eta 0:00:01\r\u001b[K     |████████████▌                   | 296 kB 35.3 MB/s eta 0:00:01\r\u001b[K     |█████████████                   | 307 kB 35.3 MB/s eta 0:00:01\r\u001b[K     |█████████████▍                  | 317 kB 35.3 MB/s eta 0:00:01\r\u001b[K     |█████████████▊                  | 327 kB 35.3 MB/s eta 0:00:01\r\u001b[K     |██████████████▏                 | 337 kB 35.3 MB/s eta 0:00:01\r\u001b[K     |██████████████▋                 | 348 kB 35.3 MB/s eta 0:00:01\r\u001b[K     |███████████████                 | 358 kB 35.3 MB/s eta 0:00:01\r\u001b[K     |███████████████▌                | 368 kB 35.3 MB/s eta 0:00:01\r\u001b[K     |████████████████                | 378 kB 35.3 MB/s eta 0:00:01\r\u001b[K     |████████████████▍               | 389 kB 35.3 MB/s eta 0:00:01\r\u001b[K     |████████████████▉               | 399 kB 35.3 MB/s eta 0:00:01\r\u001b[K     |█████████████████▏              | 409 kB 35.3 MB/s eta 0:00:01\r\u001b[K     |█████████████████▋              | 419 kB 35.3 MB/s eta 0:00:01\r\u001b[K     |██████████████████              | 430 kB 35.3 MB/s eta 0:00:01\r\u001b[K     |██████████████████▌             | 440 kB 35.3 MB/s eta 0:00:01\r\u001b[K     |███████████████████             | 450 kB 35.3 MB/s eta 0:00:01\r\u001b[K     |███████████████████▍            | 460 kB 35.3 MB/s eta 0:00:01\r\u001b[K     |███████████████████▉            | 471 kB 35.3 MB/s eta 0:00:01\r\u001b[K     |████████████████████▎           | 481 kB 35.3 MB/s eta 0:00:01\r\u001b[K     |████████████████████▋           | 491 kB 35.3 MB/s eta 0:00:01\r\u001b[K     |█████████████████████           | 501 kB 35.3 MB/s eta 0:00:01\r\u001b[K     |█████████████████████▌          | 512 kB 35.3 MB/s eta 0:00:01\r\u001b[K     |██████████████████████          | 522 kB 35.3 MB/s eta 0:00:01\r\u001b[K     |██████████████████████▍         | 532 kB 35.3 MB/s eta 0:00:01\r\u001b[K     |██████████████████████▉         | 542 kB 35.3 MB/s eta 0:00:01\r\u001b[K     |███████████████████████▎        | 552 kB 35.3 MB/s eta 0:00:01\r\u001b[K     |███████████████████████▊        | 563 kB 35.3 MB/s eta 0:00:01\r\u001b[K     |████████████████████████        | 573 kB 35.3 MB/s eta 0:00:01\r\u001b[K     |████████████████████████▌       | 583 kB 35.3 MB/s eta 0:00:01\r\u001b[K     |█████████████████████████       | 593 kB 35.3 MB/s eta 0:00:01\r\u001b[K     |█████████████████████████▍      | 604 kB 35.3 MB/s eta 0:00:01\r\u001b[K     |█████████████████████████▉      | 614 kB 35.3 MB/s eta 0:00:01\r\u001b[K     |██████████████████████████▎     | 624 kB 35.3 MB/s eta 0:00:01\r\u001b[K     |██████████████████████████▊     | 634 kB 35.3 MB/s eta 0:00:01\r\u001b[K     |███████████████████████████▏    | 645 kB 35.3 MB/s eta 0:00:01\r\u001b[K     |███████████████████████████▌    | 655 kB 35.3 MB/s eta 0:00:01\r\u001b[K     |████████████████████████████    | 665 kB 35.3 MB/s eta 0:00:01\r\u001b[K     |████████████████████████████▍   | 675 kB 35.3 MB/s eta 0:00:01\r\u001b[K     |████████████████████████████▉   | 686 kB 35.3 MB/s eta 0:00:01\r\u001b[K     |█████████████████████████████▎  | 696 kB 35.3 MB/s eta 0:00:01\r\u001b[K     |█████████████████████████████▊  | 706 kB 35.3 MB/s eta 0:00:01\r\u001b[K     |██████████████████████████████▏ | 716 kB 35.3 MB/s eta 0:00:01\r\u001b[K     |██████████████████████████████▋ | 727 kB 35.3 MB/s eta 0:00:01\r\u001b[K     |███████████████████████████████ | 737 kB 35.3 MB/s eta 0:00:01\r\u001b[K     |███████████████████████████████▍| 747 kB 35.3 MB/s eta 0:00:01\r\u001b[K     |███████████████████████████████▉| 757 kB 35.3 MB/s eta 0:00:01\r\u001b[K     |████████████████████████████████| 761 kB 35.3 MB/s \n",
            "\u001b[?25h  Building wheel for pyngrok (setup.py) ... \u001b[?25l\u001b[?25hdone\n"
          ]
        }
      ]
    },
    {
      "cell_type": "code",
      "source": [
        "#generating a public url mapped to localhost 80\n",
        "public_url = ngrok.connect(port=80, proto=\"http\", options={\"bind_tls\": True, \"local\": True})\n",
        "print(\"Tracking URL:\", public_url)"
      ],
      "metadata": {
        "id": "pP-3yfuLuHPK",
        "colab": {
          "base_uri": "https://localhost:8080/"
        },
        "outputId": "a875de9e-fe5c-4729-b9a8-3efa14e75a82"
      },
      "execution_count": 18,
      "outputs": [
        {
          "output_type": "stream",
          "name": "stdout",
          "text": [
            "Tracking URL: NgrokTunnel: \"http://d57c-34-85-134-8.ngrok.io\" -> \"http://localhost:80\"\n"
          ]
        }
      ]
    },
    {
      "cell_type": "code",
      "source": [],
      "metadata": {
        "id": "SSgqZxh-f6eh"
      },
      "execution_count": 18,
      "outputs": []
    },
    {
      "cell_type": "code",
      "source": [
        "#Start Kaolin Dash3D on localhost:80\n",
        "!kaolin-dash3d --logdir=/content/drive/MyDrive/CV_DMTet/Logs --port=80"
      ],
      "metadata": {
        "id": "ZC7uQFlVaM37",
        "colab": {
          "base_uri": "https://localhost:8080/"
        },
        "outputId": "d88a46a5-f4ca-4fcd-a4cd-1bbca8d198bb"
      },
      "execution_count": 19,
      "outputs": [
        {
          "output_type": "stream",
          "name": "stdout",
          "text": [
            "Dash3D server starting. Go to: http://localhost:80\n",
            "2022-11-30 18:47:11,368|    INFO|kaolin.visualize.timelapse| No checkpoints found for type pointcloud: no files matched pattern pointcloud*.usd in /content/drive/MyDrive/CV_DMTet/Logs\n",
            "2022-11-30 18:47:11,374|    INFO|kaolin.visualize.timelapse| No checkpoints found for type voxelgrid: no files matched pattern voxelgrid*.usd in /content/drive/MyDrive/CV_DMTet/Logs\n",
            "Traceback (most recent call last):\n",
            "  File \"/usr/lib/python3.7/asyncio/base_events.py\", line 541, in run_forever\n",
            "    self._run_once()\n",
            "  File \"/usr/lib/python3.7/asyncio/base_events.py\", line 1750, in _run_once\n",
            "    event_list = self._selector.select(timeout)\n",
            "  File \"/usr/lib/python3.7/selectors.py\", line 468, in select\n",
            "    fd_event_list = self._selector.poll(timeout, max_ev)\n",
            "KeyboardInterrupt\n",
            "\n",
            "During handling of the above exception, another exception occurred:\n",
            "\n",
            "Traceback (most recent call last):\n",
            "  File \"/usr/local/bin/kaolin-dash3d\", line 6, in <module>\n",
            "    run_main()\n",
            "  File \"/usr/local/lib/python3.7/dist-packages/kaolin/experimental/dash3d/run.py\", line 97, in run_main\n",
            "    IOLoop.instance().start()\n",
            "  File \"/usr/local/lib/python3.7/dist-packages/tornado/platform/asyncio.py\", line 149, in start\n",
            "    self.asyncio_loop.run_forever()\n",
            "  File \"/usr/lib/python3.7/asyncio/base_events.py\", line 548, in run_forever\n",
            "    self._set_coroutine_origin_tracking(False)\n",
            "KeyboardInterrupt\n"
          ]
        }
      ]
    },
    {
      "cell_type": "markdown",
      "source": [
        "# Training"
      ],
      "metadata": {
        "id": "b7r0Jbs3LGPC"
      }
    },
    {
      "cell_type": "code",
      "source": [
        "\"\"\"\n",
        "Data preprocessing: \n",
        "\n",
        "voxelize meshes into resolution of 100 first, then voxelize at lower res (~16) to thicken thin structures\n",
        "After performing marching cubes on low res voxel grid, sample 3000 points from surfaces as input to the generator\n",
        "\n",
        "Initialization: \n",
        "\n",
        "a uniform deformable tetrahedral grid generated by Quartet with resolution ~70 (DMTet)\n",
        "\n",
        "Generator:\n",
        "\n",
        "Receive (v, f(v)), where v is 3D coords, and f(v) is features of v (RGD, uvs, etc.) (Not considering for now)\n",
        "Output a predicted s(v), sdf for v, and a deform vector [v1, v2, v3] to perform marching tetrahedra\n",
        "Loss = Chamfer L2 + Laplacian regularization\n",
        "\n",
        "A feature vector will also be output for surface refinement (Not considering for now)\n",
        "\n",
        "\"\"\""
      ],
      "metadata": {
        "id": "BIrKe5tFpKha",
        "colab": {
          "base_uri": "https://localhost:8080/",
          "height": 107
        },
        "outputId": "f28a82a4-efa6-424e-fba3-dd9e0b7f8f49"
      },
      "execution_count": 20,
      "outputs": [
        {
          "output_type": "execute_result",
          "data": {
            "text/plain": [
              "'\\nData preprocessing: \\n\\nvoxelize meshes into resolution of 100 first, then voxelize at lower res (~16) to thicken thin structures\\nAfter performing marching cubes on low res voxel grid, sample 3000 points from surfaces as input to the generator\\n\\nInitialization: \\n\\na uniform deformable tetrahedral grid generated by Quartet with resolution ~70 (DMTet)\\n\\nGenerator:\\n\\nReceive (v, f(v)), where v is 3D coords, and f(v) is features of v (RGD, uvs, etc.) (Not considering for now)\\nOutput a predicted s(v), sdf for v, and a deform vector [v1, v2, v3] to perform marching tetrahedra\\nLoss = Chamfer L2 + Laplacian regularization\\n\\nA feature vector will also be output for surface refinement (Not considering for now)\\n\\n'"
            ],
            "application/vnd.google.colaboratory.intrinsic+json": {
              "type": "string"
            }
          },
          "metadata": {},
          "execution_count": 20
        }
      ]
    },
    {
      "cell_type": "code",
      "source": [
        "# Hyperparams\n",
        "res=32 # resolution of voxelgrid\n",
        "chamfer_sample_num=20000 # num of sampled point when evaluate chamfer distance\n",
        "lr = 1e-3\n",
        "laplacian_weight = 0.1\n",
        "iterations = 5000\n",
        "save_every = 100\n",
        "multires = 2\n",
        "grid_res = 128"
      ],
      "metadata": {
        "id": "HnV8A6_oJLXv"
      },
      "execution_count": 21,
      "outputs": []
    },
    {
      "cell_type": "code",
      "source": [
        "from kaolin.ops.mesh import (\n",
        "    sample_points\n",
        ")\n",
        "\n",
        "from kaolin.metrics.pointcloud import (\n",
        "    chamfer_distance\n",
        ")\n",
        "\n",
        "#randomly sample points from predicted mesh and ground truth mesh and calculate Chamfer distance\n",
        "def get_Chamfer_L2(pred_verts, pred_faces, gt_verts, gt_faces):\n",
        "\n",
        "    # generating point cloud using verts and faces\n",
        "\n",
        "    pred_sample = sample_points(\n",
        "        vertices=pred_verts.unsqueeze(0),\n",
        "        faces=pred_faces,\n",
        "        num_samples=chamfer_sample_num\n",
        "    )\n",
        "\n",
        "    gt_sample = sample_points(\n",
        "        vertices=gt_verts.unsqueeze(0),\n",
        "        faces=gt_faces,\n",
        "        num_samples=chamfer_sample_num\n",
        "    )\n",
        "\n",
        "    pred_point_cloud = pred_sample[0].to(device)\n",
        "    gt_point_cloud = gt_sample[0].to(device)\n",
        "\n",
        "    # calculating chamfer distance\n",
        "    dist = chamfer_distance(pred_point_cloud, gt_point_cloud)\n",
        "\n",
        "    return dist"
      ],
      "metadata": {
        "id": "RCy1lvMaKf4E"
      },
      "execution_count": 22,
      "outputs": []
    },
    {
      "cell_type": "code",
      "source": [
        "d = get_Chamfer_L2(voxel_verts, voxel_faces, sample_verts, sample_faces)\n",
        "print('Chamfer L2 distance between voxelization and ground truth: ', d)"
      ],
      "metadata": {
        "id": "ZkdAO6EfMRu3",
        "colab": {
          "base_uri": "https://localhost:8080/"
        },
        "outputId": "158501c8-b79e-4bc9-b651-60d3d3e53287"
      },
      "execution_count": 23,
      "outputs": [
        {
          "output_type": "stream",
          "name": "stdout",
          "text": [
            "Chamfer L2 distance between voxelization and ground truth:  tensor([228.8798], device='cuda:0')\n"
          ]
        }
      ]
    },
    {
      "cell_type": "code",
      "source": [
        "# Laplacian regularization using umbrella operator (Fujiwara / Desbrun).\n",
        "# https://mgarland.org/class/geom04/material/smoothing.pdf\n",
        "def laplace_regularizer_const(mesh_verts, mesh_faces):\n",
        "    term = torch.zeros_like(mesh_verts)\n",
        "    norm = torch.zeros_like(mesh_verts[..., 0:1])\n",
        "\n",
        "    v0 = mesh_verts[mesh_faces[:, 0], :]\n",
        "    v1 = mesh_verts[mesh_faces[:, 1], :]\n",
        "    v2 = mesh_verts[mesh_faces[:, 2], :]\n",
        "\n",
        "    term.scatter_add_(0, mesh_faces[:, 0:1].repeat(1,3), (v1 - v0) + (v2 - v0))\n",
        "    term.scatter_add_(0, mesh_faces[:, 1:2].repeat(1,3), (v0 - v1) + (v2 - v1))\n",
        "    term.scatter_add_(0, mesh_faces[:, 2:3].repeat(1,3), (v0 - v2) + (v1 - v2))\n",
        "\n",
        "    two = torch.ones_like(v0) * 2.0\n",
        "    norm.scatter_add_(0, mesh_faces[:, 0:1], two)\n",
        "    norm.scatter_add_(0, mesh_faces[:, 1:2], two)\n",
        "    norm.scatter_add_(0, mesh_faces[:, 2:3], two)\n",
        "\n",
        "    term = term / torch.clamp(norm, min=1.0)\n",
        "\n",
        "    return torch.mean(term**2)\n",
        "\n",
        "def loss_f(mesh_verts, mesh_faces, points, it):\n",
        "    pred_points = kaolin.ops.mesh.sample_points(mesh_verts.unsqueeze(0), mesh_faces, chamfer_sample_num)[0][0]\n",
        "    chamfer = kaolin.metrics.pointcloud.chamfer_distance(pred_points.unsqueeze(0), points.unsqueeze(0)).mean()\n",
        "    if it > iterations//2:\n",
        "        lap = laplace_regularizer_const(mesh_verts, mesh_faces)\n",
        "        return chamfer + lap * laplacian_weight\n",
        "    return chamfer"
      ],
      "metadata": {
        "id": "w8waaHk0I0Vh"
      },
      "execution_count": 24,
      "outputs": []
    },
    {
      "cell_type": "code",
      "source": [
        "from tqdm import tqdm\n",
        "\n",
        "\n",
        "\n",
        "# MLP + Positional Encoding\n",
        "class Decoder(torch.nn.Module):\n",
        "    def __init__(self, input_dims = 3, internal_dims = 128, output_dims = 4, hidden = 5, multires = 2):\n",
        "        super().__init__()\n",
        "        self.embed_fn = None\n",
        "        if multires > 0:\n",
        "            embed_fn, input_ch = get_embedder(multires)\n",
        "            self.embed_fn = embed_fn\n",
        "            input_dims = input_ch\n",
        "\n",
        "        # net = (torch.nn.Linear(input_dims, internal_dims, bias=False), torch.nn.ReLU())\n",
        "        # for i in range(hidden-1):\n",
        "        #     net = net + (torch.nn.Linear(internal_dims, internal_dims, bias=False), torch.nn.ReLU())\n",
        "        # net = net + (torch.nn.Linear(internal_dims, output_dims, bias=False),)\n",
        "        # self.net = torch.nn.Sequential(*net)\n",
        "\n",
        "        self.net = torch.nn.Sequential(\n",
        "            torch.nn.Linear(input_dims, 256, bias=False),\n",
        "            torch.nn.ReLU(),\n",
        "            torch.nn.Linear(256, 256, bias=False),\n",
        "            torch.nn.ReLU(),\n",
        "            torch.nn.Linear(256, 128, bias=False),\n",
        "            torch.nn.ReLU(),\n",
        "            torch.nn.Linear(128, 64, bias=False),\n",
        "            torch.nn.ReLU(),\n",
        "            torch.nn.Linear(64, output_dims, bias=False),\n",
        "        )\n",
        "\n",
        "    def forward(self, p):\n",
        "        if self.embed_fn is not None:\n",
        "            p = self.embed_fn(p)\n",
        "        out = self.net(p)\n",
        "        return out\n",
        "\n",
        "    def pre_train_sphere(self, iter):\n",
        "        print (\"Initialize SDF to sphere\")\n",
        "        loss_fn = torch.nn.MSELoss()\n",
        "        optimizer = torch.optim.Adam(list(self.parameters()), lr=1e-4)\n",
        "\n",
        "        for i in tqdm(range(iter)):\n",
        "            p = torch.rand((1024,3), device='cuda') - 0.5\n",
        "            ref_value  = torch.sqrt((p**2).sum(-1)) - 0.3\n",
        "            output = self(p)\n",
        "            loss = loss_fn(output[...,0], ref_value)\n",
        "            optimizer.zero_grad()\n",
        "            loss.backward()\n",
        "            optimizer.step()\n",
        "\n",
        "        print(\"Pre-trained MLP\", loss.item())\n",
        "\n",
        "\n",
        "# Positional Encoding from https://github.com/yenchenlin/nerf-pytorch/blob/1f064835d2cca26e4df2d7d130daa39a8cee1795/run_nerf_helpers.py\n",
        "class Embedder:\n",
        "    def __init__(self, **kwargs):\n",
        "        self.kwargs = kwargs\n",
        "        self.create_embedding_fn()\n",
        "        \n",
        "    def create_embedding_fn(self):\n",
        "        embed_fns = []\n",
        "        d = self.kwargs['input_dims']\n",
        "        out_dim = 0\n",
        "        if self.kwargs['include_input']:\n",
        "            embed_fns.append(lambda x : x)\n",
        "            out_dim += d\n",
        "            \n",
        "        max_freq = self.kwargs['max_freq_log2']\n",
        "        N_freqs = self.kwargs['num_freqs']\n",
        "        \n",
        "        if self.kwargs['log_sampling']:\n",
        "            freq_bands = 2.**torch.linspace(0., max_freq, steps=N_freqs)\n",
        "        else:\n",
        "            freq_bands = torch.linspace(2.**0., 2.**max_freq, steps=N_freqs)\n",
        "            \n",
        "        for freq in freq_bands:\n",
        "            for p_fn in self.kwargs['periodic_fns']:\n",
        "                embed_fns.append(lambda x, p_fn=p_fn, freq=freq : p_fn(x * freq))\n",
        "                out_dim += d\n",
        "                    \n",
        "        self.embed_fns = embed_fns\n",
        "        self.out_dim = out_dim\n",
        "        \n",
        "    def embed(self, inputs):\n",
        "        return torch.cat([fn(inputs) for fn in self.embed_fns], -1)\n",
        "\n",
        "def get_embedder(multires):\n",
        "    embed_kwargs = {\n",
        "                'include_input' : True,\n",
        "                'input_dims' : 3,\n",
        "                'max_freq_log2' : multires-1,\n",
        "                'num_freqs' : multires,\n",
        "                'log_sampling' : True,\n",
        "                'periodic_fns' : [torch.sin, torch.cos],\n",
        "    }\n",
        "    \n",
        "    embedder_obj = Embedder(**embed_kwargs)\n",
        "    embed = lambda x, eo=embedder_obj : eo.embed(x)\n",
        "    return embed, embedder_obj.out_dim"
      ],
      "metadata": {
        "id": "a3FlCXRAHuu8"
      },
      "execution_count": 25,
      "outputs": []
    },
    {
      "cell_type": "code",
      "source": [
        "def SDF_train(epoch, model, trainset, optimizer):\n",
        "    \"\"\"\n",
        "    for point cloud, extract 3D feature vectors by PVCNN and cat them into an R^1 vector F(v,x)\n",
        "    one copy will be used here for prediction of SDF\n",
        "\n",
        "    for voxel, extract 3D feature vector by sampling on surface\n",
        "\n",
        "    initial prediction will consist of four layers with dimensions:\n",
        "    256, 256, 128, 64\n",
        "\n",
        "    losses will be Chamfer L2 distance between pred and gt\n",
        "\n",
        "    check in kaolin's documentation for how to batch data\n",
        "    \"\"\"\n",
        "\n",
        "    #dataset is a list of model ditionaries\n",
        "    for idx, model_dict in enumerate(trainset):\n",
        "\n",
        "      #get vertices and faces of meshes\n",
        "\n",
        "      mesh = model_dict['mesh'] \n",
        "      verts = mesh[0]\n",
        "      faces = mesh[1]\n",
        "\n",
        "      #voxelize 3D meshes\n",
        "\n",
        "      voxel_grid = trianglemeshes_to_voxelgrids(verts.unsqueeze(0), faces, resolution=res)\n",
        "\n",
        "      "
      ],
      "metadata": {
        "id": "QGYpBz-iwaoN"
      },
      "execution_count": 26,
      "outputs": []
    },
    {
      "cell_type": "code",
      "source": [],
      "metadata": {
        "id": "pOF_XimhDPKd"
      },
      "execution_count": 26,
      "outputs": []
    },
    {
      "cell_type": "code",
      "source": [],
      "metadata": {
        "id": "byUtAiNG18Ty"
      },
      "execution_count": 26,
      "outputs": []
    }
  ]
}